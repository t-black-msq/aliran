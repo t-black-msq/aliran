{
 "cells": [
  {
   "cell_type": "code",
   "execution_count": 226,
   "metadata": {},
   "outputs": [],
   "source": [
    "import json\n",
    "import pandas"
   ]
  },
  {
   "cell_type": "code",
   "execution_count": 227,
   "metadata": {},
   "outputs": [],
   "source": [
    "FILENAME = '../json/info.json'\n",
    "\n",
    "with open(FILENAME, encoding='utf8') as info:\n",
    "    INFO = json.load(info)"
   ]
  },
  {
   "cell_type": "code",
   "execution_count": 228,
   "metadata": {},
   "outputs": [],
   "source": [
    "RANK1 = ['r2005', 'r2006#1', 'r2006#2']\n",
    "RANK2 = ['r2007', 'r2008', 'r2009', 'r2010', 'r2011', 'r2012', 'r2013', 'r2014', 'r2015', 'r2016', 'r2017', 'r2018', 'r2019']\n",
    "RANK = RANK1 + RANK2\n",
    "URA = ['r2019u']\n",
    "RECENT = 'r2019'\n",
    "\n",
    "def year_filter(value: str, initial: str, array: list, mode: str = 'ge'):\n",
    "    if mode not in ['gt', 'ge']:\n",
    "        raise ValueError(f'invalid mode: {mode}')\n",
    "    if value in array and initial in array:\n",
    "        if mode == 'ge':\n",
    "            return array.index(value) >= array.index(initial)\n",
    "        else:\n",
    "            return array.index(value) > array.index(initial)\n",
    "    elif value in array: # 初登場が2006以前\n",
    "        return True\n",
    "    else:\n",
    "        return False"
   ]
  },
  {
   "cell_type": "code",
   "execution_count": 229,
   "metadata": {},
   "outputs": [],
   "source": [
    "# DataFrame 作成用のサマリJSONを作り直す\n",
    "\n",
    "# keys = [\n",
    "#     'no', # index\n",
    "#     'title', # 曲名\n",
    "#     'summation', # オモテ合計順位\n",
    "#     'appearance', # オモテ圏内登場回数\n",
    "#     'inst', # インスト\n",
    "#     'hall_of_fame', # 殿堂入り\n",
    "#     'works', # 収録作品\n",
    "#     'debut', # 初出作品\n",
    "#     'date', # 発売日\n",
    "#     'initial', # 初登場ランキング\n",
    "#     'kind', # 収録作品種別\n",
    "#     'r2005', 'r2006#1', 'r2006#2',\n",
    "#     'r2007', 'r2008', 'r2009', 'r2010', 'r2011', 'r2012', 'r2013', 'r2014', 'r2015', 'r2016', 'r2017', 'r2018', 'r2019',\n",
    "#     'r2019u'\n",
    "# ]\n",
    "\n",
    "# SONGS = INFO['songs']\n",
    "# WORKS = INFO['works']\n",
    "# MAX = INFO['max']\n",
    "# LENGTH = len(SONGS)\n",
    "\n",
    "# SUMMARY = {key: [None] * LENGTH for key in keys}\n",
    "\n",
    "# for i in range(LENGTH):\n",
    "#     SONG = SONGS[f'{i + 1:03d}']\n",
    "#     SUMMARY['no'][i] = i + 1\n",
    "#     SUMMARY['title'][i] = SONG['title']\n",
    "#     SUMMARY['summation'][i] = 0\n",
    "#     SUMMARY['appearance'][i] = 0\n",
    "#     SUMMARY['inst'][i] = SONG['inst']\n",
    "#     SUMMARY['hall_of_fame'][i] = SONG['hall_of_fame']\n",
    "#     SUMMARY['works'][i] = [WORKS[work[:3]]['title'] for work in SONG['works']]\n",
    "#     SUMMARY['debut'][i] = WORKS[SONG['debut']]['title']\n",
    "#     SUMMARY['date'][i] = WORKS[SONG['debut']]['release']\n",
    "#     SUMMARY['initial'][i] = SONG['initial']\n",
    "#     SUMMARY['kind'][i] = SONG['kind']\n",
    "\n",
    "#     for r in RANK:\n",
    "#         if r in SONG:\n",
    "#             SUMMARY[r][i] = SONG[r] if SONG[r] is not None else MAX[r]\n",
    "#             if r in RANK2:\n",
    "#                 SUMMARY['summation'][i] += SUMMARY[r][i]\n",
    "#                 SUMMARY['appearance'][i] += 1\n",
    "\n",
    "#     for r in URA:\n",
    "#         if r in SONG:\n",
    "#             SUMMARY[r][i] = int(SONG[r])\n",
    "\n",
    "# del SONGS, WORKS, MAX, LENGTH\n",
    "\n",
    "# with open('../data/summary.json', 'w', encoding='utf8') as summary:\n",
    "#     json.dump(SUMMARY, summary, ensure_ascii=False)\n",
    "\n",
    "SUMMARY = pandas.read_json('../data/summary.json')\n",
    "SUMMARY.index = SUMMARY.no\n",
    "SUMMARY = SUMMARY.drop(['no'], 1)\n",
    "SUMMARY['average'] = SUMMARY.summation / SUMMARY.appearance\n",
    "SUMMARY.date = pandas.to_datetime(SUMMARY.date)"
   ]
  },
  {
   "cell_type": "code",
   "execution_count": 230,
   "metadata": {},
   "outputs": [],
   "source": [
    "# 今回の対象楽曲 (100位以下、殿堂入り、インストを除外)\n",
    "TARGET = SUMMARY.query('not hall_of_fame and not inst and r2019 > 100')\n",
    "\n",
    "TARGET['over100'] = 0\n",
    "TARGET['count_all'] = 0\n",
    "TARGET['average_exclude_debut'] = None\n",
    "TARGET['highest_exclude_debut'] = None\n",
    "\n",
    "for no in TARGET.index:\n",
    "    song = TARGET.loc[no]\n",
    "    to_mean_all = list(filter(lambda y: year_filter(y, song.initial, RANK), RANK))\n",
    "    TARGET.over100.at[no] = len(list(filter(lambda s: s > 100, song[to_mean_all].values)))\n",
    "    TARGET.count_all.at[no] = len(to_mean_all)\n",
    "    to_mean_exclude_debut = list(filter(lambda y: year_filter(y, song.initial, RANK2, 'gt'), RANK2))\n",
    "    TARGET.average_exclude_debut.at[no] = song[to_mean_exclude_debut].mean()\n",
    "    TARGET.highest_exclude_debut.at[no] = song[to_mean_exclude_debut].min()\n",
    "\n",
    "TARGET['rank_average_exclude_debut'] = TARGET.average_exclude_debut.rank(method='min', na_option='bottom')\n",
    "TARGET['rank_highest_exclude_debut'] = TARGET.highest_exclude_debut.rank(method='min', na_option='bottom')"
   ]
  },
  {
   "cell_type": "code",
   "execution_count": 231,
   "metadata": {},
   "outputs": [
    {
     "output_type": "execute_result",
     "data": {
      "text/plain": "            title  summation  appearance   inst  hall_of_fame  \\\nno                                                              \n1        桜の花は狂い咲き       1579          13  False         False   \n3    マリーゴールド・ガーデン       2233          13  False         False   \n4     鏡面界 im Juni       2614          13  False         False   \n5    アンジェ・ノワールの祭戯       1633          13  False         False   \n6         紅い睡蓮の午後       2454          13  False         False   \n..            ...        ...         ...    ...           ...   \n327  Taolor Tの変身譚        183           2  False         False   \n328        ヤマトイズム        196           2  False         False   \n330         眼球ロマン        277           2  False         False   \n334        タンゴ ダタ        168           2  False         False   \n342       月下、緑雨幻想        140           1  False         False   \n\n                                              works  \\\nno                                                    \n1    [SOME GIRLS -REBEL STREEL IV, CLASSICS, 月光嗜好症]   \n3                          [幻想庭園, フラワーチャイルド, 神々の黄昏]   \n4                                            [幻想庭園]   \n5                                     [幻想庭園, 神々の黄昏]   \n6                                     [幻想庭園, 月光嗜好症]   \n..                                              ...   \n327                                         [芸術変態論]   \n328                                         [芸術変態論]   \n330                                         [芸術変態論]   \n334                                         [芸術変態論]   \n342                                      [Fantasia]   \n\n                           debut       date initial           kind  ...  \\\nno                                                                  ...   \n1    SOME GIRLS -REBEL STREEL IV 1997-04-25   r2005   [SA, OA, OT]  ...   \n3                           幻想庭園 1988-01-25   r2005  [SA, OA, S-2]  ...   \n4                           幻想庭園 1988-01-25   r2005           [OA]  ...   \n5                           幻想庭園 1988-01-25   r2005       [SA, OA]  ...   \n6                           幻想庭園 1988-01-25   r2005       [SA, OA]  ...   \n..                           ...        ...     ...            ...  ...   \n327                        芸術変態論 2018-07-25   r2018           [OA]  ...   \n328                        芸術変態論 2018-07-25   r2018           [OA]  ...   \n330                        芸術変態論 2018-07-25   r2018           [OA]  ...   \n334                        芸術変態論 2018-07-25   r2018           [OA]  ...   \n342                     Fantasia 2019-08-28   r2019           [OA]  ...   \n\n     r2018  r2019  r2019u     average  over100  count_all  \\\nno                                                          \n1    164.0  123.0    64.0  121.461538        9         16   \n3    164.0  216.0   128.0  171.769231       13         16   \n4    250.0  260.0   150.0  201.076923       13         16   \n5     63.0  106.0     NaN  125.615385        9         16   \n6    209.0  226.0   152.0  188.769231       13         16   \n..     ...    ...     ...         ...      ...        ...   \n327   47.0  136.0     NaN   91.500000        1          2   \n328   26.0  170.0     NaN   98.000000        1          2   \n330  107.0  170.0    67.0  138.500000        2          2   \n334   35.0  133.0     NaN   84.000000        1          2   \n342    NaN  140.0     NaN  140.000000        1          1   \n\n     average_exclude_debut  highest_exclude_debut  rank_average_exclude_debut  \\\nno                                                                              \n1                  121.462                     68                        46.0   \n3                  171.769                    141                       120.0   \n4                  201.077                    131                       162.0   \n5                  125.615                     63                        52.0   \n6                  188.769                    136                       143.0   \n..                     ...                    ...                         ...   \n327                    136                    136                        64.0   \n328                    170                    170                       114.0   \n330                    170                    170                       114.0   \n334                    133                    133                        57.0   \n342                    NaN                    NaN                       211.0   \n\n     rank_highest_exclude_debut  \nno                               \n1                          64.0  \n3                         164.0  \n4                         152.0  \n5                          55.0  \n6                         159.0  \n..                          ...  \n327                       159.0  \n328                       190.0  \n330                       190.0  \n334                       153.0  \n342                       211.0  \n\n[211 rows x 34 columns]",
      "text/html": "<div>\n<style scoped>\n    .dataframe tbody tr th:only-of-type {\n        vertical-align: middle;\n    }\n\n    .dataframe tbody tr th {\n        vertical-align: top;\n    }\n\n    .dataframe thead th {\n        text-align: right;\n    }\n</style>\n<table border=\"1\" class=\"dataframe\">\n  <thead>\n    <tr style=\"text-align: right;\">\n      <th></th>\n      <th>title</th>\n      <th>summation</th>\n      <th>appearance</th>\n      <th>inst</th>\n      <th>hall_of_fame</th>\n      <th>works</th>\n      <th>debut</th>\n      <th>date</th>\n      <th>initial</th>\n      <th>kind</th>\n      <th>...</th>\n      <th>r2018</th>\n      <th>r2019</th>\n      <th>r2019u</th>\n      <th>average</th>\n      <th>over100</th>\n      <th>count_all</th>\n      <th>average_exclude_debut</th>\n      <th>highest_exclude_debut</th>\n      <th>rank_average_exclude_debut</th>\n      <th>rank_highest_exclude_debut</th>\n    </tr>\n    <tr>\n      <th>no</th>\n      <th></th>\n      <th></th>\n      <th></th>\n      <th></th>\n      <th></th>\n      <th></th>\n      <th></th>\n      <th></th>\n      <th></th>\n      <th></th>\n      <th></th>\n      <th></th>\n      <th></th>\n      <th></th>\n      <th></th>\n      <th></th>\n      <th></th>\n      <th></th>\n      <th></th>\n      <th></th>\n      <th></th>\n    </tr>\n  </thead>\n  <tbody>\n    <tr>\n      <th>1</th>\n      <td>桜の花は狂い咲き</td>\n      <td>1579</td>\n      <td>13</td>\n      <td>False</td>\n      <td>False</td>\n      <td>[SOME GIRLS -REBEL STREEL IV, CLASSICS, 月光嗜好症]</td>\n      <td>SOME GIRLS -REBEL STREEL IV</td>\n      <td>1997-04-25</td>\n      <td>r2005</td>\n      <td>[SA, OA, OT]</td>\n      <td>...</td>\n      <td>164.0</td>\n      <td>123.0</td>\n      <td>64.0</td>\n      <td>121.461538</td>\n      <td>9</td>\n      <td>16</td>\n      <td>121.462</td>\n      <td>68</td>\n      <td>46.0</td>\n      <td>64.0</td>\n    </tr>\n    <tr>\n      <th>3</th>\n      <td>マリーゴールド・ガーデン</td>\n      <td>2233</td>\n      <td>13</td>\n      <td>False</td>\n      <td>False</td>\n      <td>[幻想庭園, フラワーチャイルド, 神々の黄昏]</td>\n      <td>幻想庭園</td>\n      <td>1988-01-25</td>\n      <td>r2005</td>\n      <td>[SA, OA, S-2]</td>\n      <td>...</td>\n      <td>164.0</td>\n      <td>216.0</td>\n      <td>128.0</td>\n      <td>171.769231</td>\n      <td>13</td>\n      <td>16</td>\n      <td>171.769</td>\n      <td>141</td>\n      <td>120.0</td>\n      <td>164.0</td>\n    </tr>\n    <tr>\n      <th>4</th>\n      <td>鏡面界 im Juni</td>\n      <td>2614</td>\n      <td>13</td>\n      <td>False</td>\n      <td>False</td>\n      <td>[幻想庭園]</td>\n      <td>幻想庭園</td>\n      <td>1988-01-25</td>\n      <td>r2005</td>\n      <td>[OA]</td>\n      <td>...</td>\n      <td>250.0</td>\n      <td>260.0</td>\n      <td>150.0</td>\n      <td>201.076923</td>\n      <td>13</td>\n      <td>16</td>\n      <td>201.077</td>\n      <td>131</td>\n      <td>162.0</td>\n      <td>152.0</td>\n    </tr>\n    <tr>\n      <th>5</th>\n      <td>アンジェ・ノワールの祭戯</td>\n      <td>1633</td>\n      <td>13</td>\n      <td>False</td>\n      <td>False</td>\n      <td>[幻想庭園, 神々の黄昏]</td>\n      <td>幻想庭園</td>\n      <td>1988-01-25</td>\n      <td>r2005</td>\n      <td>[SA, OA]</td>\n      <td>...</td>\n      <td>63.0</td>\n      <td>106.0</td>\n      <td>NaN</td>\n      <td>125.615385</td>\n      <td>9</td>\n      <td>16</td>\n      <td>125.615</td>\n      <td>63</td>\n      <td>52.0</td>\n      <td>55.0</td>\n    </tr>\n    <tr>\n      <th>6</th>\n      <td>紅い睡蓮の午後</td>\n      <td>2454</td>\n      <td>13</td>\n      <td>False</td>\n      <td>False</td>\n      <td>[幻想庭園, 月光嗜好症]</td>\n      <td>幻想庭園</td>\n      <td>1988-01-25</td>\n      <td>r2005</td>\n      <td>[SA, OA]</td>\n      <td>...</td>\n      <td>209.0</td>\n      <td>226.0</td>\n      <td>152.0</td>\n      <td>188.769231</td>\n      <td>13</td>\n      <td>16</td>\n      <td>188.769</td>\n      <td>136</td>\n      <td>143.0</td>\n      <td>159.0</td>\n    </tr>\n    <tr>\n      <th>...</th>\n      <td>...</td>\n      <td>...</td>\n      <td>...</td>\n      <td>...</td>\n      <td>...</td>\n      <td>...</td>\n      <td>...</td>\n      <td>...</td>\n      <td>...</td>\n      <td>...</td>\n      <td>...</td>\n      <td>...</td>\n      <td>...</td>\n      <td>...</td>\n      <td>...</td>\n      <td>...</td>\n      <td>...</td>\n      <td>...</td>\n      <td>...</td>\n      <td>...</td>\n      <td>...</td>\n    </tr>\n    <tr>\n      <th>327</th>\n      <td>Taolor Tの変身譚</td>\n      <td>183</td>\n      <td>2</td>\n      <td>False</td>\n      <td>False</td>\n      <td>[芸術変態論]</td>\n      <td>芸術変態論</td>\n      <td>2018-07-25</td>\n      <td>r2018</td>\n      <td>[OA]</td>\n      <td>...</td>\n      <td>47.0</td>\n      <td>136.0</td>\n      <td>NaN</td>\n      <td>91.500000</td>\n      <td>1</td>\n      <td>2</td>\n      <td>136</td>\n      <td>136</td>\n      <td>64.0</td>\n      <td>159.0</td>\n    </tr>\n    <tr>\n      <th>328</th>\n      <td>ヤマトイズム</td>\n      <td>196</td>\n      <td>2</td>\n      <td>False</td>\n      <td>False</td>\n      <td>[芸術変態論]</td>\n      <td>芸術変態論</td>\n      <td>2018-07-25</td>\n      <td>r2018</td>\n      <td>[OA]</td>\n      <td>...</td>\n      <td>26.0</td>\n      <td>170.0</td>\n      <td>NaN</td>\n      <td>98.000000</td>\n      <td>1</td>\n      <td>2</td>\n      <td>170</td>\n      <td>170</td>\n      <td>114.0</td>\n      <td>190.0</td>\n    </tr>\n    <tr>\n      <th>330</th>\n      <td>眼球ロマン</td>\n      <td>277</td>\n      <td>2</td>\n      <td>False</td>\n      <td>False</td>\n      <td>[芸術変態論]</td>\n      <td>芸術変態論</td>\n      <td>2018-07-25</td>\n      <td>r2018</td>\n      <td>[OA]</td>\n      <td>...</td>\n      <td>107.0</td>\n      <td>170.0</td>\n      <td>67.0</td>\n      <td>138.500000</td>\n      <td>2</td>\n      <td>2</td>\n      <td>170</td>\n      <td>170</td>\n      <td>114.0</td>\n      <td>190.0</td>\n    </tr>\n    <tr>\n      <th>334</th>\n      <td>タンゴ ダタ</td>\n      <td>168</td>\n      <td>2</td>\n      <td>False</td>\n      <td>False</td>\n      <td>[芸術変態論]</td>\n      <td>芸術変態論</td>\n      <td>2018-07-25</td>\n      <td>r2018</td>\n      <td>[OA]</td>\n      <td>...</td>\n      <td>35.0</td>\n      <td>133.0</td>\n      <td>NaN</td>\n      <td>84.000000</td>\n      <td>1</td>\n      <td>2</td>\n      <td>133</td>\n      <td>133</td>\n      <td>57.0</td>\n      <td>153.0</td>\n    </tr>\n    <tr>\n      <th>342</th>\n      <td>月下、緑雨幻想</td>\n      <td>140</td>\n      <td>1</td>\n      <td>False</td>\n      <td>False</td>\n      <td>[Fantasia]</td>\n      <td>Fantasia</td>\n      <td>2019-08-28</td>\n      <td>r2019</td>\n      <td>[OA]</td>\n      <td>...</td>\n      <td>NaN</td>\n      <td>140.0</td>\n      <td>NaN</td>\n      <td>140.000000</td>\n      <td>1</td>\n      <td>1</td>\n      <td>NaN</td>\n      <td>NaN</td>\n      <td>211.0</td>\n      <td>211.0</td>\n    </tr>\n  </tbody>\n</table>\n<p>211 rows × 34 columns</p>\n</div>"
     },
     "metadata": {},
     "execution_count": 231
    }
   ],
   "source": [
    "TARGET"
   ]
  },
  {
   "cell_type": "markdown",
   "metadata": {},
   "source": [
    "## ウラ対象楽曲リスト"
   ]
  },
  {
   "cell_type": "code",
   "execution_count": 232,
   "metadata": {},
   "outputs": [],
   "source": [
    "col = 4\n",
    "length = len(TARGET)\n",
    "row = int(pandas.np.ceil(length/2))\n",
    "\n",
    "a2 = [[] for _ in range(col)]\n",
    "c = 0\n",
    "for no in TARGET.index:\n",
    "    a2[int(c // row)] += [TARGET.title.at[no]]\n",
    "    c += 1\n",
    "\n",
    "# write to file (html tag)\n",
    "with open('../data_ura/list.txt', 'w', encoding='utf8') as list_file:\n",
    "    list_file.write('<div style=\"display: flex; justify-content: space-around; border: solid 1px; overflow: auto; flex-wrap: wrap;\">\\n')\n",
    "\n",
    "    for i in range(2):\n",
    "        j = 0\n",
    "        list_file.write(f'<ol start=\"{i * row + j + 1}\" style=\"padding-left: 5px;\">\\n')\n",
    "        for j in range(len(a2[i])):\n",
    "            list_file.write(f'<li>{a2[i][j]}</li>')\n",
    "        list_file.write('\\n</ol>\\n')\n",
    "    list_file.write('</div>')"
   ]
  },
  {
   "cell_type": "markdown",
   "metadata": {},
   "source": [
    "## 昨年度振り返り"
   ]
  },
  {
   "cell_type": "code",
   "execution_count": 233,
   "metadata": {},
   "outputs": [],
   "source": [
    "# # 初登場を除く平均を追加\n",
    "# TARGET['average_exclude_debut'] = 0\n",
    "# # 最高順位を追加\n",
    "# TARGET['highest'] = 0\n",
    "# TARGET['lowest'] = 0\n",
    "# # 初登場を除く最高順位を追加\n",
    "# TARGET['highest_exclude_debut'] = 0\n",
    "\n",
    "\n",
    "LAST = SUMMARY.query(f'r2018 >= 100')\n",
    "RANK_LAST_YEAR = RANK2[:-1]\n",
    "RANK_ALL_LAST_YEAR = RANK[:-1]\n",
    "\n",
    "LAST['average_exclude_debut'] = None\n",
    "LAST['highest_exclude_debut'] = None\n",
    "# LAST['highest'] = 0\n",
    "# LAST['lower'] = 0\n",
    "# LAST['over30'] = 0\n",
    "# LAST['over50'] = 0\n",
    "LAST['over100'] = None\n",
    "# LAST['over200'] = 0\n",
    "LAST['count_all'] = None\n",
    "\n",
    "for no in LAST.index:\n",
    "    song = LAST.loc[no]\n",
    "    to_mean = list(filter(lambda y: year_filter(y, song.initial, RANK_LAST_YEAR), RANK_LAST_YEAR))\n",
    "    to_mean_exclude_debut = list(filter(lambda y: year_filter(y, song.initial, RANK_LAST_YEAR, 'gt'), RANK_LAST_YEAR))\n",
    "    LAST.average.at[no] = song[to_mean].mean()\n",
    "    LAST.average_exclude_debut.at[no] = song[to_mean_exclude_debut].mean()\n",
    "    LAST.highest_exclude_debut.at[no] = song[to_mean_exclude_debut].min()\n",
    "    to_mean_all = list(filter(lambda y: year_filter(y, song.initial, RANK_ALL_LAST_YEAR), RANK_ALL_LAST_YEAR))\n",
    "    # LAST.highest.at[no] = song[to_mean_all].min()\n",
    "    # LAST.lowest.at[no] = song[to_mean_all].max()\n",
    "    # LAST.over30.at[no] = len(list(filter(lambda s: s > 30, song[to_mean_all].values)))\n",
    "    # LAST.over50.at[no] = len(list(filter(lambda s: s > 50, song[to_mean_all].values)))\n",
    "    LAST.over100.at[no] = len(list(filter(lambda s: s > 100, song[to_mean_all].values)))\n",
    "    # LAST.over200.at[no] = len(list(filter(lambda s: s > 200, song[to_mean_all].values)))\n",
    "    LAST.count_all.at[no] = len(to_mean_all)\n",
    "    LAST.at[no, 'count'] = len(to_mean)\n",
    "\n",
    "LAST['under100'] = (LAST.count_all - LAST.over100) / LAST.count_all\n",
    "LAST['rank_average'] = LAST.average_exclude_debut.rank(method='min', na_option='bottom')\n",
    "LAST['rank_highest'] = LAST.highest_exclude_debut.rank(method='min', na_option='bottom')\n",
    "\n",
    "tmp = LAST.sort_values(['r2019u']).query('r2019u <= 20')[['title','date','r2019u', 'r2019', 'under100', 'rank_average', 'average_exclude_debut', 'rank_highest', 'highest_exclude_debut']]\n",
    "\n",
    "with open('../data_ura/review.md', 'w', encoding='utf8') as file:\n",
    "    file.write('ウラ順位|曲名|発表年|2019本戦|100位圏内率|平均順位の順位|最高順位の順位\\n')\n",
    "    file.write('---:|---|---:|---:|---:|---:|---:\\n')\n",
    "    for no in tmp.index:\n",
    "        row = tmp.loc[no]\n",
    "        file.write(f'''{int(row.r2019u)}|{'<span style=\"color: red;\">' if int(row.r2019) <= 100 else ''}{row.title}{'</span>' if int(row.r2019) <= 100 else \"\"}|{row.date.year}|{int(row.r2019)}|{row.under100:.3f}|{int(row.rank_average)}|{int(row.rank_highest)}\\n''')"
   ]
  },
  {
   "cell_type": "markdown",
   "metadata": {},
   "source": [
    "## 今回の対象楽曲のうち、去年のウラで高い順位だった曲"
   ]
  },
  {
   "cell_type": "code",
   "execution_count": 234,
   "metadata": {},
   "outputs": [],
   "source": [
    "tmp = TARGET.sort_values(['r2019u']).query('r2019u <= 30')[['title', 'r2019u', RECENT, 'date']]\n",
    "\n",
    "with open('../data_ura/top_in_last_ura.md', 'w', encoding='utf8') as file:\n",
    "    file.write('ウラ順位|曲名|発表年|2019本戦\\n')\n",
    "    file.write('---:|---|---:|---:\\n')\n",
    "    for no in tmp.index:\n",
    "        row = tmp.loc[no]\n",
    "        file.write(f'{int(row.r2019u)}|{row.title}|{row.date.year}|{int(row.r2019)}\\n')"
   ]
  },
  {
   "cell_type": "markdown",
   "metadata": {},
   "source": [
    "## 初トップ100圏外"
   ]
  },
  {
   "cell_type": "code",
   "execution_count": 235,
   "metadata": {},
   "outputs": [],
   "source": [
    "tmp = TARGET[(100 < TARGET[RECENT])].query('over100 == 1')[['title', 'date', *RANK2]]\n",
    "\n",
    "with open('../data_ura/first100.md', 'w', encoding='utf8') as file:\n",
    "    file.write('曲名|発表年|最低順位(2019 以前)|2019\\n')\n",
    "    file.write('---|---:|---:|---:\\n')\n",
    "    for no in tmp.index:\n",
    "        row = tmp.loc[no]\n",
    "        file.write(f'{row.title}|{row.date.year}|{int(row[RANK2[:-1]].max()) if row.date.year < 2019 else \"-\"}|{int(row.r2019)}\\n')"
   ]
  },
  {
   "cell_type": "markdown",
   "metadata": {},
   "source": [
    "## トップ100ランクイン割合が多い曲"
   ]
  },
  {
   "cell_type": "code",
   "execution_count": 236,
   "metadata": {},
   "outputs": [],
   "source": [
    "top100 = TARGET.loc[:, :]\n",
    "top100['under100'] = top100.count_all - top100.over100\n",
    "top100['under100_rate'] = top100.under100 / top100.count_all\n",
    "top100['rank_under100_rate'] = top100.under100_rate.rank(method='min', na_option='bottom', ascending=False)\n",
    "tmp = top100.sort_values(['under100_rate', 'under100'], ascending=False) \\\n",
    "   .query('under100_rate > 0.7') \\\n",
    "   [['title'] + RANK2 + ['under100',  'under100_rate', 'rank_under100_rate', 'date']]\n",
    "\n",
    "with open('../data_ura/top100.txt', 'w', encoding='utf8') as file:\n",
    "   file.write('<table>\\n')\n",
    "   file.write('<tr><th>順位</th><th>曲名</th><th>発表年</th><th>回数</th><th>率</th></tr>\\n')\n",
    "   before = 0\n",
    "   for no in tmp.index:\n",
    "      row = tmp.loc[no]\n",
    "      file.write('<tr>')\n",
    "      if before != row.rank_under100_rate:\n",
    "         count = sum(tmp.rank_under100_rate == row.rank_under100_rate)\n",
    "         file.write(f'''<td{'' if count < 2 else f' rowspan=\"{count}\"'}>{int(row.rank_under100_rate)}</td>''')\n",
    "      file.write(f'<td>{row.title}</td><td>{row.date.year}</td><td>{row.under100}</td><td>{row.under100_rate:.3f}</td></tr>\\n')\n",
    "      before = row.rank_under100_rate\n",
    "   file.write('</table>')"
   ]
  },
  {
   "cell_type": "markdown",
   "metadata": {},
   "source": [
    "## 過去平均順位が高い曲"
   ]
  },
  {
   "cell_type": "code",
   "execution_count": 239,
   "metadata": {},
   "outputs": [
    {
     "output_type": "execute_result",
     "data": {
      "text/plain": "                            title  rank_average_exclude_debut  \\\nno                                                              \n185                            神風                           1   \n261                       真夏の憂愁夫人                           2   \n269                      ローズ家の双子達                           3   \n268                        令嬢薔薇図鑑                           4   \n130                       昭和恋々幻燈館                           5   \n205        処女懐胎、あるいは白骨塔より少女達は飛翔する                           6   \n195                          鬼帝の剣                           7   \n264                          快恠奇奇                           8   \n181                          コトダマ                           9   \n274                    黒百合隠密カゲキダン                          10   \n215                         堕天國宣戦                          11   \n317                     昭和B級下手喰い道                          12   \n206                       お毒味LADY                          13   \n318                        女化生舞楽図                          14   \n224                        亂世エロイカ                          15   \n187                        ヘテロ失楽園                          16   \n299                        陸と海と空と                          17   \n210                     上海繚乱ロマンチカ                          18   \n13   恋せよ乙女 -Love story of ZIPANG-                          19   \n70                            月光夜                          20   \n230                      平成日本残酷物語                          21   \n\n    average_exclude_debut       date  \nno                                    \n185                  39.4 2008-08-27  \n261               44.8571 2012-07-18  \n269               52.3333 2013-09-11  \n268               59.1667 2013-09-11  \n130               62.6923 2005-06-22  \n205               63.2222 2009-08-26  \n195                  64.3 2008-11-19  \n264                  66.5 2013-02-20  \n181                    67 2008-01-23  \n274               69.8333 2013-09-11  \n215               72.6667 2009-10-21  \n317               78.3333 2016-08-24  \n206               79.8889 2009-08-26  \n318               83.6667 2016-08-24  \n224                86.125 2010-07-14  \n187                  88.5 2008-08-27  \n299                 89.25 2015-09-09  \n210               90.7778 2009-08-26  \n13                91.8462 1992-07-07  \n70                96.4615 1998-11-21  \n230                96.625 2010-09-26  ",
      "text/html": "<div>\n<style scoped>\n    .dataframe tbody tr th:only-of-type {\n        vertical-align: middle;\n    }\n\n    .dataframe tbody tr th {\n        vertical-align: top;\n    }\n\n    .dataframe thead th {\n        text-align: right;\n    }\n</style>\n<table border=\"1\" class=\"dataframe\">\n  <thead>\n    <tr style=\"text-align: right;\">\n      <th></th>\n      <th>title</th>\n      <th>rank_average_exclude_debut</th>\n      <th>average_exclude_debut</th>\n      <th>date</th>\n    </tr>\n    <tr>\n      <th>no</th>\n      <th></th>\n      <th></th>\n      <th></th>\n      <th></th>\n    </tr>\n  </thead>\n  <tbody>\n    <tr>\n      <th>185</th>\n      <td>神風</td>\n      <td>1</td>\n      <td>39.4</td>\n      <td>2008-08-27</td>\n    </tr>\n    <tr>\n      <th>261</th>\n      <td>真夏の憂愁夫人</td>\n      <td>2</td>\n      <td>44.8571</td>\n      <td>2012-07-18</td>\n    </tr>\n    <tr>\n      <th>269</th>\n      <td>ローズ家の双子達</td>\n      <td>3</td>\n      <td>52.3333</td>\n      <td>2013-09-11</td>\n    </tr>\n    <tr>\n      <th>268</th>\n      <td>令嬢薔薇図鑑</td>\n      <td>4</td>\n      <td>59.1667</td>\n      <td>2013-09-11</td>\n    </tr>\n    <tr>\n      <th>130</th>\n      <td>昭和恋々幻燈館</td>\n      <td>5</td>\n      <td>62.6923</td>\n      <td>2005-06-22</td>\n    </tr>\n    <tr>\n      <th>205</th>\n      <td>処女懐胎、あるいは白骨塔より少女達は飛翔する</td>\n      <td>6</td>\n      <td>63.2222</td>\n      <td>2009-08-26</td>\n    </tr>\n    <tr>\n      <th>195</th>\n      <td>鬼帝の剣</td>\n      <td>7</td>\n      <td>64.3</td>\n      <td>2008-11-19</td>\n    </tr>\n    <tr>\n      <th>264</th>\n      <td>快恠奇奇</td>\n      <td>8</td>\n      <td>66.5</td>\n      <td>2013-02-20</td>\n    </tr>\n    <tr>\n      <th>181</th>\n      <td>コトダマ</td>\n      <td>9</td>\n      <td>67</td>\n      <td>2008-01-23</td>\n    </tr>\n    <tr>\n      <th>274</th>\n      <td>黒百合隠密カゲキダン</td>\n      <td>10</td>\n      <td>69.8333</td>\n      <td>2013-09-11</td>\n    </tr>\n    <tr>\n      <th>215</th>\n      <td>堕天國宣戦</td>\n      <td>11</td>\n      <td>72.6667</td>\n      <td>2009-10-21</td>\n    </tr>\n    <tr>\n      <th>317</th>\n      <td>昭和B級下手喰い道</td>\n      <td>12</td>\n      <td>78.3333</td>\n      <td>2016-08-24</td>\n    </tr>\n    <tr>\n      <th>206</th>\n      <td>お毒味LADY</td>\n      <td>13</td>\n      <td>79.8889</td>\n      <td>2009-08-26</td>\n    </tr>\n    <tr>\n      <th>318</th>\n      <td>女化生舞楽図</td>\n      <td>14</td>\n      <td>83.6667</td>\n      <td>2016-08-24</td>\n    </tr>\n    <tr>\n      <th>224</th>\n      <td>亂世エロイカ</td>\n      <td>15</td>\n      <td>86.125</td>\n      <td>2010-07-14</td>\n    </tr>\n    <tr>\n      <th>187</th>\n      <td>ヘテロ失楽園</td>\n      <td>16</td>\n      <td>88.5</td>\n      <td>2008-08-27</td>\n    </tr>\n    <tr>\n      <th>299</th>\n      <td>陸と海と空と</td>\n      <td>17</td>\n      <td>89.25</td>\n      <td>2015-09-09</td>\n    </tr>\n    <tr>\n      <th>210</th>\n      <td>上海繚乱ロマンチカ</td>\n      <td>18</td>\n      <td>90.7778</td>\n      <td>2009-08-26</td>\n    </tr>\n    <tr>\n      <th>13</th>\n      <td>恋せよ乙女 -Love story of ZIPANG-</td>\n      <td>19</td>\n      <td>91.8462</td>\n      <td>1992-07-07</td>\n    </tr>\n    <tr>\n      <th>70</th>\n      <td>月光夜</td>\n      <td>20</td>\n      <td>96.4615</td>\n      <td>1998-11-21</td>\n    </tr>\n    <tr>\n      <th>230</th>\n      <td>平成日本残酷物語</td>\n      <td>21</td>\n      <td>96.625</td>\n      <td>2010-09-26</td>\n    </tr>\n  </tbody>\n</table>\n</div>"
     },
     "metadata": {},
     "execution_count": 239
    }
   ],
   "source": [
    "average_top = TARGET.sort_values(['rank_average_exclude_debut', 'date'], ascending=[True, True]) \\\n",
    "                    .query('average_exclude_debut <= 100') \\\n",
    "                    [['title', 'rank_average_exclude_debut', 'average_exclude_debut', 'date']].astype({'rank_average_exclude_debut': int})\n",
    "\n",
    "with open('../data_ura/average_top.md', 'w', encoding='utf8') as file:\n",
    "    file.write('\\#|曲名|平均\\n')\n",
    "    file.write('---:|---|---:\\n')\n",
    "    for no in average_top.index:\n",
    "        file.write(f'{average_top.rank_average_exclude_debut.at[no]}|{average_top.title.at[no]}|{average_top.average_exclude_debut.at[no]:.2f}\\n')"
   ]
  },
  {
   "cell_type": "markdown",
   "metadata": {},
   "source": [
    "## 過去平均最高順位が高い曲"
   ]
  },
  {
   "cell_type": "code",
   "execution_count": 241,
   "metadata": {},
   "outputs": [
    {
     "output_type": "execute_result",
     "data": {
      "text/plain": "                            title  rank_highest_exclude_debut  \\\nno                                                              \n261                       真夏の憂愁夫人                           1   \n274                    黒百合隠密カゲキダン                           2   \n269                      ローズ家の双子達                           3   \n185                            神風                           4   \n215                         堕天國宣戦                           4   \n206                       お毒味LADY                           6   \n205        処女懐胎、あるいは白骨塔より少女達は飛翔する                           7   \n195                          鬼帝の剣                           8   \n268                        令嬢薔薇図鑑                           9   \n301                        快楽のススメ                          10   \n159                          極楽荊姫                          11   \n198                       裸々イヴ新世紀                          12   \n122                   あたしがアリスだった頃                          13   \n124               君がため、惜しからざりし命さへ                          14   \n181                          コトダマ                          14   \n264                          快恠奇奇                          16   \n186                         黙示録前戯                          17   \n240                    Troubadour                          17   \n13   恋せよ乙女 -Love story of ZIPANG-                          19   \n130                       昭和恋々幻燈館                          20   \n210                     上海繚乱ロマンチカ                          20   \n224                        亂世エロイカ                          22   \n276                          見ぬ友へ                          23   \n257                       真偽贋物遊覧会                          24   \n317                     昭和B級下手喰い道                          25   \n37    Nous Deux C'est Pour La Vie                          26   \n70                            月光夜                          27   \n138                         百合と夜鶯                          27   \n209          Animals on the Earth                          27   \n96                         schism                          30   \n154               La calèche ～春の雪                          31   \n318                        女化生舞楽図                          31   \n43                           Wish                          33   \n82                        閉ざされた画室                          33   \n235                       鹿鳴館ブギウギ                          33   \n267                         乙女の贖い                          33   \n271                          薔薇娼館                          33   \n295             Tico Tico no Fubá                          38   \n\n     highest_exclude_debut       date  \nno                                     \n261                      9 2012-07-18  \n274                     10 2013-09-11  \n269                     12 2013-09-11  \n185                     14 2008-08-27  \n215                     14 2009-10-21  \n206                     18 2009-08-26  \n205                     19 2009-08-26  \n195                     23 2008-11-19  \n268                     25 2013-09-11  \n301                     26 2015-09-09  \n159                     28 2006-12-06  \n198                     29 2009-01-21  \n122                     31 2004-10-22  \n124                     32 2005-06-08  \n181                     32 2008-01-23  \n264                     33 2013-02-20  \n186                     34 2008-08-27  \n240                     34 2011-05-25  \n13                      36 1992-07-07  \n130                     37 2005-06-22  \n210                     37 2009-08-26  \n224                     40 2010-07-14  \n276                     41 2013-09-11  \n257                     42 2012-07-18  \n317                     43 2016-08-24  \n37                      44 1995-10-18  \n70                      45 1998-11-21  \n138                     45 2005-12-07  \n209                     45 2009-08-26  \n96                      46 2002-07-24  \n154                     47 2006-12-06  \n318                     47 2016-08-24  \n43                      48 1996-12-24  \n82                      48 2001-04-25  \n235                     48 2010-09-26  \n267                     48 2013-07-24  \n271                     48 2013-09-11  \n295                     50 2015-01-21  ",
      "text/html": "<div>\n<style scoped>\n    .dataframe tbody tr th:only-of-type {\n        vertical-align: middle;\n    }\n\n    .dataframe tbody tr th {\n        vertical-align: top;\n    }\n\n    .dataframe thead th {\n        text-align: right;\n    }\n</style>\n<table border=\"1\" class=\"dataframe\">\n  <thead>\n    <tr style=\"text-align: right;\">\n      <th></th>\n      <th>title</th>\n      <th>rank_highest_exclude_debut</th>\n      <th>highest_exclude_debut</th>\n      <th>date</th>\n    </tr>\n    <tr>\n      <th>no</th>\n      <th></th>\n      <th></th>\n      <th></th>\n      <th></th>\n    </tr>\n  </thead>\n  <tbody>\n    <tr>\n      <th>261</th>\n      <td>真夏の憂愁夫人</td>\n      <td>1</td>\n      <td>9</td>\n      <td>2012-07-18</td>\n    </tr>\n    <tr>\n      <th>274</th>\n      <td>黒百合隠密カゲキダン</td>\n      <td>2</td>\n      <td>10</td>\n      <td>2013-09-11</td>\n    </tr>\n    <tr>\n      <th>269</th>\n      <td>ローズ家の双子達</td>\n      <td>3</td>\n      <td>12</td>\n      <td>2013-09-11</td>\n    </tr>\n    <tr>\n      <th>185</th>\n      <td>神風</td>\n      <td>4</td>\n      <td>14</td>\n      <td>2008-08-27</td>\n    </tr>\n    <tr>\n      <th>215</th>\n      <td>堕天國宣戦</td>\n      <td>4</td>\n      <td>14</td>\n      <td>2009-10-21</td>\n    </tr>\n    <tr>\n      <th>206</th>\n      <td>お毒味LADY</td>\n      <td>6</td>\n      <td>18</td>\n      <td>2009-08-26</td>\n    </tr>\n    <tr>\n      <th>205</th>\n      <td>処女懐胎、あるいは白骨塔より少女達は飛翔する</td>\n      <td>7</td>\n      <td>19</td>\n      <td>2009-08-26</td>\n    </tr>\n    <tr>\n      <th>195</th>\n      <td>鬼帝の剣</td>\n      <td>8</td>\n      <td>23</td>\n      <td>2008-11-19</td>\n    </tr>\n    <tr>\n      <th>268</th>\n      <td>令嬢薔薇図鑑</td>\n      <td>9</td>\n      <td>25</td>\n      <td>2013-09-11</td>\n    </tr>\n    <tr>\n      <th>301</th>\n      <td>快楽のススメ</td>\n      <td>10</td>\n      <td>26</td>\n      <td>2015-09-09</td>\n    </tr>\n    <tr>\n      <th>159</th>\n      <td>極楽荊姫</td>\n      <td>11</td>\n      <td>28</td>\n      <td>2006-12-06</td>\n    </tr>\n    <tr>\n      <th>198</th>\n      <td>裸々イヴ新世紀</td>\n      <td>12</td>\n      <td>29</td>\n      <td>2009-01-21</td>\n    </tr>\n    <tr>\n      <th>122</th>\n      <td>あたしがアリスだった頃</td>\n      <td>13</td>\n      <td>31</td>\n      <td>2004-10-22</td>\n    </tr>\n    <tr>\n      <th>124</th>\n      <td>君がため、惜しからざりし命さへ</td>\n      <td>14</td>\n      <td>32</td>\n      <td>2005-06-08</td>\n    </tr>\n    <tr>\n      <th>181</th>\n      <td>コトダマ</td>\n      <td>14</td>\n      <td>32</td>\n      <td>2008-01-23</td>\n    </tr>\n    <tr>\n      <th>264</th>\n      <td>快恠奇奇</td>\n      <td>16</td>\n      <td>33</td>\n      <td>2013-02-20</td>\n    </tr>\n    <tr>\n      <th>186</th>\n      <td>黙示録前戯</td>\n      <td>17</td>\n      <td>34</td>\n      <td>2008-08-27</td>\n    </tr>\n    <tr>\n      <th>240</th>\n      <td>Troubadour</td>\n      <td>17</td>\n      <td>34</td>\n      <td>2011-05-25</td>\n    </tr>\n    <tr>\n      <th>13</th>\n      <td>恋せよ乙女 -Love story of ZIPANG-</td>\n      <td>19</td>\n      <td>36</td>\n      <td>1992-07-07</td>\n    </tr>\n    <tr>\n      <th>130</th>\n      <td>昭和恋々幻燈館</td>\n      <td>20</td>\n      <td>37</td>\n      <td>2005-06-22</td>\n    </tr>\n    <tr>\n      <th>210</th>\n      <td>上海繚乱ロマンチカ</td>\n      <td>20</td>\n      <td>37</td>\n      <td>2009-08-26</td>\n    </tr>\n    <tr>\n      <th>224</th>\n      <td>亂世エロイカ</td>\n      <td>22</td>\n      <td>40</td>\n      <td>2010-07-14</td>\n    </tr>\n    <tr>\n      <th>276</th>\n      <td>見ぬ友へ</td>\n      <td>23</td>\n      <td>41</td>\n      <td>2013-09-11</td>\n    </tr>\n    <tr>\n      <th>257</th>\n      <td>真偽贋物遊覧会</td>\n      <td>24</td>\n      <td>42</td>\n      <td>2012-07-18</td>\n    </tr>\n    <tr>\n      <th>317</th>\n      <td>昭和B級下手喰い道</td>\n      <td>25</td>\n      <td>43</td>\n      <td>2016-08-24</td>\n    </tr>\n    <tr>\n      <th>37</th>\n      <td>Nous Deux C'est Pour La Vie</td>\n      <td>26</td>\n      <td>44</td>\n      <td>1995-10-18</td>\n    </tr>\n    <tr>\n      <th>70</th>\n      <td>月光夜</td>\n      <td>27</td>\n      <td>45</td>\n      <td>1998-11-21</td>\n    </tr>\n    <tr>\n      <th>138</th>\n      <td>百合と夜鶯</td>\n      <td>27</td>\n      <td>45</td>\n      <td>2005-12-07</td>\n    </tr>\n    <tr>\n      <th>209</th>\n      <td>Animals on the Earth</td>\n      <td>27</td>\n      <td>45</td>\n      <td>2009-08-26</td>\n    </tr>\n    <tr>\n      <th>96</th>\n      <td>schism</td>\n      <td>30</td>\n      <td>46</td>\n      <td>2002-07-24</td>\n    </tr>\n    <tr>\n      <th>154</th>\n      <td>La calèche ～春の雪</td>\n      <td>31</td>\n      <td>47</td>\n      <td>2006-12-06</td>\n    </tr>\n    <tr>\n      <th>318</th>\n      <td>女化生舞楽図</td>\n      <td>31</td>\n      <td>47</td>\n      <td>2016-08-24</td>\n    </tr>\n    <tr>\n      <th>43</th>\n      <td>Wish</td>\n      <td>33</td>\n      <td>48</td>\n      <td>1996-12-24</td>\n    </tr>\n    <tr>\n      <th>82</th>\n      <td>閉ざされた画室</td>\n      <td>33</td>\n      <td>48</td>\n      <td>2001-04-25</td>\n    </tr>\n    <tr>\n      <th>235</th>\n      <td>鹿鳴館ブギウギ</td>\n      <td>33</td>\n      <td>48</td>\n      <td>2010-09-26</td>\n    </tr>\n    <tr>\n      <th>267</th>\n      <td>乙女の贖い</td>\n      <td>33</td>\n      <td>48</td>\n      <td>2013-07-24</td>\n    </tr>\n    <tr>\n      <th>271</th>\n      <td>薔薇娼館</td>\n      <td>33</td>\n      <td>48</td>\n      <td>2013-09-11</td>\n    </tr>\n    <tr>\n      <th>295</th>\n      <td>Tico Tico no Fubá</td>\n      <td>38</td>\n      <td>50</td>\n      <td>2015-01-21</td>\n    </tr>\n  </tbody>\n</table>\n</div>"
     },
     "metadata": {},
     "execution_count": 241
    }
   ],
   "source": [
    "highest_top = TARGET.sort_values(['rank_highest_exclude_debut', 'date'], ascending=[True, True]) \\\n",
    "                    .query('highest_exclude_debut <= 50') \\\n",
    "                    [['title', 'rank_highest_exclude_debut', 'highest_exclude_debut', 'date']].astype({'rank_highest_exclude_debut': int, 'highest_exclude_debut': int})\n",
    "\n",
    "with open('../data_ura/highest.md', 'w', encoding='utf8') as file:\n",
    "    file.write('\\n')\n",
    "\n",
    "highest_top"
   ]
  },
  {
   "cell_type": "markdown",
   "metadata": {},
   "source": [
    "## 未投票楽曲"
   ]
  },
  {
   "cell_type": "code",
   "execution_count": 243,
   "metadata": {},
   "outputs": [
    {
     "output_type": "execute_result",
     "data": {
      "text/plain": "                  title  summation  appearance   inst  hall_of_fame  \\\nno                                                                    \n55             日曜日のシエスタ       2476          13  False         False   \n91       La vie en rose       2812          13  False         False   \n106           Féliciter       2663          13  False         False   \n180           Nocturnal       2673          12  False         False   \n216                  寶島       2090          10  False         False   \n247             逢魔蛾城の伯爵       1730           9  False         False   \n296  小夜すみれ ～ある夜の森の小さなお話       1058           5  False         False   \n311                 魂ノ代       1162           5  False         False   \n\n                                      works                        debut  \\\nno                                                                         \n55   [CLAMP学園探偵団 Vocal Collection, étoiles]  CLAMP学園探偵団 Vocal Collection   \n91                               [CLASSICS]                     CLASSICS   \n106                                 [月光嗜好症]                        月光嗜好症   \n180                          [Grand Finale]                 Grand Finale   \n216                       [堕天國宣戦, QUEENDOM]                        堕天國宣戦   \n247                         [Les Papillons]                Les Papillons   \n296                     [Violetta Operetta]            Violetta Operetta   \n311                                 [波羅蜜蓮華]                        波羅蜜蓮華   \n\n          date initial       kind  ...     average  over100  count_all  \\\nno                                 ...                                   \n55  1997-12-17   r2005   [SA, ST]  ...  190.461538       13         16   \n91  2001-07-25   r2005       [OA]  ...  216.307692       13         16   \n106 2003-04-23   r2005       [SA]  ...  204.846154       13         16   \n180 2007-12-12   r2008       [SA]  ...  222.750000       12         12   \n216 2009-10-21   r2010  [S-2, CA]  ...  209.000000       10         10   \n247 2011-06-29   r2011       [SA]  ...  192.222222        9          9   \n296 2015-01-21   r2015       [SA]  ...  211.600000        5          5   \n311 2015-10-21   r2015      [S-2]  ...  232.400000        5          5   \n\n     average_exclude_debut  highest_exclude_debut  rank_average_exclude_debut  \\\nno                                                                              \n55                 190.462                    129                       146.0   \n91                 216.308                    155                       192.0   \n106                204.846                    168                       170.0   \n180                    229                    192                       204.0   \n216                220.111                    147                       198.0   \n247                200.875                    142                       161.0   \n296                 215.75                    153                       191.0   \n311                 247.75                    237                       210.0   \n\n     rank_highest_exclude_debut  under100  under100_rate  rank_under100_rate  \nno                                                                            \n55                        148.0         3         0.1875               107.0  \n91                        178.0         3         0.1875               107.0  \n106                       188.0         3         0.1875               107.0  \n180                       204.0         0         0.0000               179.0  \n216                       170.0         0         0.0000               179.0  \n247                       165.0         0         0.0000               179.0  \n296                       174.0         0         0.0000               179.0  \n311                       210.0         0         0.0000               179.0  \n\n[8 rows x 37 columns]",
      "text/html": "<div>\n<style scoped>\n    .dataframe tbody tr th:only-of-type {\n        vertical-align: middle;\n    }\n\n    .dataframe tbody tr th {\n        vertical-align: top;\n    }\n\n    .dataframe thead th {\n        text-align: right;\n    }\n</style>\n<table border=\"1\" class=\"dataframe\">\n  <thead>\n    <tr style=\"text-align: right;\">\n      <th></th>\n      <th>title</th>\n      <th>summation</th>\n      <th>appearance</th>\n      <th>inst</th>\n      <th>hall_of_fame</th>\n      <th>works</th>\n      <th>debut</th>\n      <th>date</th>\n      <th>initial</th>\n      <th>kind</th>\n      <th>...</th>\n      <th>average</th>\n      <th>over100</th>\n      <th>count_all</th>\n      <th>average_exclude_debut</th>\n      <th>highest_exclude_debut</th>\n      <th>rank_average_exclude_debut</th>\n      <th>rank_highest_exclude_debut</th>\n      <th>under100</th>\n      <th>under100_rate</th>\n      <th>rank_under100_rate</th>\n    </tr>\n    <tr>\n      <th>no</th>\n      <th></th>\n      <th></th>\n      <th></th>\n      <th></th>\n      <th></th>\n      <th></th>\n      <th></th>\n      <th></th>\n      <th></th>\n      <th></th>\n      <th></th>\n      <th></th>\n      <th></th>\n      <th></th>\n      <th></th>\n      <th></th>\n      <th></th>\n      <th></th>\n      <th></th>\n      <th></th>\n      <th></th>\n    </tr>\n  </thead>\n  <tbody>\n    <tr>\n      <th>55</th>\n      <td>日曜日のシエスタ</td>\n      <td>2476</td>\n      <td>13</td>\n      <td>False</td>\n      <td>False</td>\n      <td>[CLAMP学園探偵団 Vocal Collection, étoiles]</td>\n      <td>CLAMP学園探偵団 Vocal Collection</td>\n      <td>1997-12-17</td>\n      <td>r2005</td>\n      <td>[SA, ST]</td>\n      <td>...</td>\n      <td>190.461538</td>\n      <td>13</td>\n      <td>16</td>\n      <td>190.462</td>\n      <td>129</td>\n      <td>146.0</td>\n      <td>148.0</td>\n      <td>3</td>\n      <td>0.1875</td>\n      <td>107.0</td>\n    </tr>\n    <tr>\n      <th>91</th>\n      <td>La vie en rose</td>\n      <td>2812</td>\n      <td>13</td>\n      <td>False</td>\n      <td>False</td>\n      <td>[CLASSICS]</td>\n      <td>CLASSICS</td>\n      <td>2001-07-25</td>\n      <td>r2005</td>\n      <td>[OA]</td>\n      <td>...</td>\n      <td>216.307692</td>\n      <td>13</td>\n      <td>16</td>\n      <td>216.308</td>\n      <td>155</td>\n      <td>192.0</td>\n      <td>178.0</td>\n      <td>3</td>\n      <td>0.1875</td>\n      <td>107.0</td>\n    </tr>\n    <tr>\n      <th>106</th>\n      <td>Féliciter</td>\n      <td>2663</td>\n      <td>13</td>\n      <td>False</td>\n      <td>False</td>\n      <td>[月光嗜好症]</td>\n      <td>月光嗜好症</td>\n      <td>2003-04-23</td>\n      <td>r2005</td>\n      <td>[SA]</td>\n      <td>...</td>\n      <td>204.846154</td>\n      <td>13</td>\n      <td>16</td>\n      <td>204.846</td>\n      <td>168</td>\n      <td>170.0</td>\n      <td>188.0</td>\n      <td>3</td>\n      <td>0.1875</td>\n      <td>107.0</td>\n    </tr>\n    <tr>\n      <th>180</th>\n      <td>Nocturnal</td>\n      <td>2673</td>\n      <td>12</td>\n      <td>False</td>\n      <td>False</td>\n      <td>[Grand Finale]</td>\n      <td>Grand Finale</td>\n      <td>2007-12-12</td>\n      <td>r2008</td>\n      <td>[SA]</td>\n      <td>...</td>\n      <td>222.750000</td>\n      <td>12</td>\n      <td>12</td>\n      <td>229</td>\n      <td>192</td>\n      <td>204.0</td>\n      <td>204.0</td>\n      <td>0</td>\n      <td>0.0000</td>\n      <td>179.0</td>\n    </tr>\n    <tr>\n      <th>216</th>\n      <td>寶島</td>\n      <td>2090</td>\n      <td>10</td>\n      <td>False</td>\n      <td>False</td>\n      <td>[堕天國宣戦, QUEENDOM]</td>\n      <td>堕天國宣戦</td>\n      <td>2009-10-21</td>\n      <td>r2010</td>\n      <td>[S-2, CA]</td>\n      <td>...</td>\n      <td>209.000000</td>\n      <td>10</td>\n      <td>10</td>\n      <td>220.111</td>\n      <td>147</td>\n      <td>198.0</td>\n      <td>170.0</td>\n      <td>0</td>\n      <td>0.0000</td>\n      <td>179.0</td>\n    </tr>\n    <tr>\n      <th>247</th>\n      <td>逢魔蛾城の伯爵</td>\n      <td>1730</td>\n      <td>9</td>\n      <td>False</td>\n      <td>False</td>\n      <td>[Les Papillons]</td>\n      <td>Les Papillons</td>\n      <td>2011-06-29</td>\n      <td>r2011</td>\n      <td>[SA]</td>\n      <td>...</td>\n      <td>192.222222</td>\n      <td>9</td>\n      <td>9</td>\n      <td>200.875</td>\n      <td>142</td>\n      <td>161.0</td>\n      <td>165.0</td>\n      <td>0</td>\n      <td>0.0000</td>\n      <td>179.0</td>\n    </tr>\n    <tr>\n      <th>296</th>\n      <td>小夜すみれ ～ある夜の森の小さなお話</td>\n      <td>1058</td>\n      <td>5</td>\n      <td>False</td>\n      <td>False</td>\n      <td>[Violetta Operetta]</td>\n      <td>Violetta Operetta</td>\n      <td>2015-01-21</td>\n      <td>r2015</td>\n      <td>[SA]</td>\n      <td>...</td>\n      <td>211.600000</td>\n      <td>5</td>\n      <td>5</td>\n      <td>215.75</td>\n      <td>153</td>\n      <td>191.0</td>\n      <td>174.0</td>\n      <td>0</td>\n      <td>0.0000</td>\n      <td>179.0</td>\n    </tr>\n    <tr>\n      <th>311</th>\n      <td>魂ノ代</td>\n      <td>1162</td>\n      <td>5</td>\n      <td>False</td>\n      <td>False</td>\n      <td>[波羅蜜蓮華]</td>\n      <td>波羅蜜蓮華</td>\n      <td>2015-10-21</td>\n      <td>r2015</td>\n      <td>[S-2]</td>\n      <td>...</td>\n      <td>232.400000</td>\n      <td>5</td>\n      <td>5</td>\n      <td>247.75</td>\n      <td>237</td>\n      <td>210.0</td>\n      <td>210.0</td>\n      <td>0</td>\n      <td>0.0000</td>\n      <td>179.0</td>\n    </tr>\n  </tbody>\n</table>\n<p>8 rows × 37 columns</p>\n</div>"
     },
     "metadata": {},
     "execution_count": 243
    }
   ],
   "source": [
    "# 未投票\n",
    "zero = ['日曜日のシエスタ', 'La vie en rose', 'Féliciter', 'Nocturnal', '寶島', '逢魔蛾城の伯爵', '小夜すみれ ～ある夜の森の小さなお話', '魂ノ代']\n",
    "TARGET.query('title in @zero')"
   ]
  },
  {
   "cell_type": "markdown",
   "metadata": {},
   "source": [
    "## シングル表題"
   ]
  },
  {
   "cell_type": "code",
   "execution_count": 244,
   "metadata": {},
   "outputs": [
    {
     "output_type": "execute_result",
     "data": {
      "text/plain": "                            title  summation  appearance   inst  hall_of_fame  \\\nno                                                                              \n12                      フラワーチャイルド       2698          13  False         False   \n13   恋せよ乙女 -Love story of ZIPANG-       1194          13  False         False   \n43                           Wish       1537          13  False         False   \n57           Anniversary of Angel       1797          13  False         False   \n59                      LABYRINTH       1554          13  False         False   \n120                   pastel pure       2586          13  False         False   \n181                          コトダマ        745          12  False         False   \n195                          鬼帝の剣        648          11  False         False   \n198                       裸々イヴ新世紀       1020          11  False         False   \n202                       戦慄の子供たち        953          10  False         False   \n215                         堕天國宣戦        661          10  False         False   \n224                        亂世エロイカ        698           9  False         False   \n310                         波羅蜜蓮華        568           5  False         False   \n\n                                                 works  \\\nno                                                       \n12   [フラワーチャイルド, 幻想庭園, 快恠奇奇 ALI PROJECT Ventennale ...   \n13   [恋せよ乙女 -Love story of ZIPANG-, 月下の一群, jamais v...   \n43   [Wish, music tracks from Wish, CLAMPAZAR ～クランパ...   \n57   [Anniversary of Angel, CLAMPAZAR ～クランパザール～, CO...   \n59   [LABYRINTH, Noblerot, 聖ルミナス女学院2 O.S.T, 快恠奇奇 AL...   \n120  [マリア様がみてる オリジナルサウンドトラック, pastel pure, マリア様がみてる...   \n181  [コトダマ, シゴフミ オリジナルサウンドトラック, La Vita Romantica, ...   \n195  [鬼帝の剣, 桂冠詩人 SINGLE COLLECTION PLUS, 鉄のラインバレル オ...   \n198  [裸々イヴ新世紀, 宇宙をかける少女 オリジナルサウンドトラック, COMPILATION ...   \n202  [戦慄の子供たち, Phantom ～Requiem for the Phantom～ O....   \n215  [堕天國宣戦, 戦う司書 The Book of Bantorra O.S.T., QUEE...   \n224  [亂世エロイカ, QUEENDOM, 快恠奇奇 ALI PROJECT Ventennale...   \n310                           [波羅蜜蓮華, 落第騎士の英雄譚 O.S.T.]   \n\n                            debut       date initial               kind  ...  \\\nno                                                                       ...   \n12                      フラワーチャイルド 1988-07-25   r2005      [OA, S-1, CA]  ...   \n13   恋せよ乙女 -Love story of ZIPANG- 1992-07-07   r2005  [OA, S-1, SA, CA]  ...   \n43                           Wish 1996-12-24   r2005  [S-1, OT, ST, CA]  ...   \n57           Anniversary of Angel 1997-12-17   r2005      [S-1, OT, CA]  ...   \n59                      LABYRINTH 1998-10-21   r2005  [OA, S-1, ST, CA]  ...   \n120                   pastel pure 2004-08-25   r2005      [S-1, ST, CA]  ...   \n181                          コトダマ 2008-01-23   r2008      [S-1, ST, CA]  ...   \n195                          鬼帝の剣 2008-11-19   r2009      [S-1, ST, CA]  ...   \n198                       裸々イヴ新世紀 2009-01-21   r2009  [S-1, OT, ST, CA]  ...   \n202                       戦慄の子供たち 2009-08-19   r2010      [S-1, ST, CA]  ...   \n215                         堕天國宣戦 2009-10-21   r2010      [S-1, ST, CA]  ...   \n224                        亂世エロイカ 2010-07-14   r2011          [S-1, CA]  ...   \n310                         波羅蜜蓮華 2015-10-21   r2015          [S-1, ST]  ...   \n\n        average  over100  count_all  average_exclude_debut  \\\nno                                                           \n12   207.538462       13         16                207.538   \n13    91.846154        4         16                91.8462   \n43   118.230769        7         16                118.231   \n57   138.230769        8         16                138.231   \n59   119.538462        9         16                119.538   \n120  198.923077       13         16                198.923   \n181   62.083333        1         12                     67   \n195   58.909091        2         11                   64.3   \n198   92.727273        4         11                  101.1   \n202   95.300000        4         10                103.111   \n215   66.100000        2         10                72.6667   \n224   77.555556        3          9                 86.125   \n310  113.600000        2          5                    139   \n\n     highest_exclude_debut  rank_average_exclude_debut  \\\nno                                                       \n12                     133                       175.0   \n13                      36                        19.0   \n43                      48                        42.0   \n57                      54                        66.0   \n59                      59                        45.0   \n120                    104                       160.0   \n181                     32                         9.0   \n195                     23                         7.0   \n198                     29                        24.0   \n202                     55                        28.0   \n215                     14                        11.0   \n224                     40                        15.0   \n310                     70                        67.0   \n\n     rank_highest_exclude_debut  under100  under100_rate  rank_under100_rate  \nno                                                                            \n12                        153.0         3       0.187500               107.0  \n13                         19.0        12       0.750000                11.0  \n43                         33.0         9       0.562500                35.0  \n57                         41.0         8       0.500000                39.0  \n59                         47.0         7       0.437500                53.0  \n120                       116.0         3       0.187500               107.0  \n181                        14.0        11       0.916667                 2.0  \n195                         8.0         9       0.818182                 8.0  \n198                        12.0         7       0.636364                25.0  \n202                        42.0         6       0.600000                29.0  \n215                         4.0         8       0.800000                 9.0  \n224                        22.0         6       0.666667                19.0  \n310                        72.0         3       0.600000                29.0  \n\n[13 rows x 37 columns]",
      "text/html": "<div>\n<style scoped>\n    .dataframe tbody tr th:only-of-type {\n        vertical-align: middle;\n    }\n\n    .dataframe tbody tr th {\n        vertical-align: top;\n    }\n\n    .dataframe thead th {\n        text-align: right;\n    }\n</style>\n<table border=\"1\" class=\"dataframe\">\n  <thead>\n    <tr style=\"text-align: right;\">\n      <th></th>\n      <th>title</th>\n      <th>summation</th>\n      <th>appearance</th>\n      <th>inst</th>\n      <th>hall_of_fame</th>\n      <th>works</th>\n      <th>debut</th>\n      <th>date</th>\n      <th>initial</th>\n      <th>kind</th>\n      <th>...</th>\n      <th>average</th>\n      <th>over100</th>\n      <th>count_all</th>\n      <th>average_exclude_debut</th>\n      <th>highest_exclude_debut</th>\n      <th>rank_average_exclude_debut</th>\n      <th>rank_highest_exclude_debut</th>\n      <th>under100</th>\n      <th>under100_rate</th>\n      <th>rank_under100_rate</th>\n    </tr>\n    <tr>\n      <th>no</th>\n      <th></th>\n      <th></th>\n      <th></th>\n      <th></th>\n      <th></th>\n      <th></th>\n      <th></th>\n      <th></th>\n      <th></th>\n      <th></th>\n      <th></th>\n      <th></th>\n      <th></th>\n      <th></th>\n      <th></th>\n      <th></th>\n      <th></th>\n      <th></th>\n      <th></th>\n      <th></th>\n      <th></th>\n    </tr>\n  </thead>\n  <tbody>\n    <tr>\n      <th>12</th>\n      <td>フラワーチャイルド</td>\n      <td>2698</td>\n      <td>13</td>\n      <td>False</td>\n      <td>False</td>\n      <td>[フラワーチャイルド, 幻想庭園, 快恠奇奇 ALI PROJECT Ventennale ...</td>\n      <td>フラワーチャイルド</td>\n      <td>1988-07-25</td>\n      <td>r2005</td>\n      <td>[OA, S-1, CA]</td>\n      <td>...</td>\n      <td>207.538462</td>\n      <td>13</td>\n      <td>16</td>\n      <td>207.538</td>\n      <td>133</td>\n      <td>175.0</td>\n      <td>153.0</td>\n      <td>3</td>\n      <td>0.187500</td>\n      <td>107.0</td>\n    </tr>\n    <tr>\n      <th>13</th>\n      <td>恋せよ乙女 -Love story of ZIPANG-</td>\n      <td>1194</td>\n      <td>13</td>\n      <td>False</td>\n      <td>False</td>\n      <td>[恋せよ乙女 -Love story of ZIPANG-, 月下の一群, jamais v...</td>\n      <td>恋せよ乙女 -Love story of ZIPANG-</td>\n      <td>1992-07-07</td>\n      <td>r2005</td>\n      <td>[OA, S-1, SA, CA]</td>\n      <td>...</td>\n      <td>91.846154</td>\n      <td>4</td>\n      <td>16</td>\n      <td>91.8462</td>\n      <td>36</td>\n      <td>19.0</td>\n      <td>19.0</td>\n      <td>12</td>\n      <td>0.750000</td>\n      <td>11.0</td>\n    </tr>\n    <tr>\n      <th>43</th>\n      <td>Wish</td>\n      <td>1537</td>\n      <td>13</td>\n      <td>False</td>\n      <td>False</td>\n      <td>[Wish, music tracks from Wish, CLAMPAZAR ～クランパ...</td>\n      <td>Wish</td>\n      <td>1996-12-24</td>\n      <td>r2005</td>\n      <td>[S-1, OT, ST, CA]</td>\n      <td>...</td>\n      <td>118.230769</td>\n      <td>7</td>\n      <td>16</td>\n      <td>118.231</td>\n      <td>48</td>\n      <td>42.0</td>\n      <td>33.0</td>\n      <td>9</td>\n      <td>0.562500</td>\n      <td>35.0</td>\n    </tr>\n    <tr>\n      <th>57</th>\n      <td>Anniversary of Angel</td>\n      <td>1797</td>\n      <td>13</td>\n      <td>False</td>\n      <td>False</td>\n      <td>[Anniversary of Angel, CLAMPAZAR ～クランパザール～, CO...</td>\n      <td>Anniversary of Angel</td>\n      <td>1997-12-17</td>\n      <td>r2005</td>\n      <td>[S-1, OT, CA]</td>\n      <td>...</td>\n      <td>138.230769</td>\n      <td>8</td>\n      <td>16</td>\n      <td>138.231</td>\n      <td>54</td>\n      <td>66.0</td>\n      <td>41.0</td>\n      <td>8</td>\n      <td>0.500000</td>\n      <td>39.0</td>\n    </tr>\n    <tr>\n      <th>59</th>\n      <td>LABYRINTH</td>\n      <td>1554</td>\n      <td>13</td>\n      <td>False</td>\n      <td>False</td>\n      <td>[LABYRINTH, Noblerot, 聖ルミナス女学院2 O.S.T, 快恠奇奇 AL...</td>\n      <td>LABYRINTH</td>\n      <td>1998-10-21</td>\n      <td>r2005</td>\n      <td>[OA, S-1, ST, CA]</td>\n      <td>...</td>\n      <td>119.538462</td>\n      <td>9</td>\n      <td>16</td>\n      <td>119.538</td>\n      <td>59</td>\n      <td>45.0</td>\n      <td>47.0</td>\n      <td>7</td>\n      <td>0.437500</td>\n      <td>53.0</td>\n    </tr>\n    <tr>\n      <th>120</th>\n      <td>pastel pure</td>\n      <td>2586</td>\n      <td>13</td>\n      <td>False</td>\n      <td>False</td>\n      <td>[マリア様がみてる オリジナルサウンドトラック, pastel pure, マリア様がみてる...</td>\n      <td>pastel pure</td>\n      <td>2004-08-25</td>\n      <td>r2005</td>\n      <td>[S-1, ST, CA]</td>\n      <td>...</td>\n      <td>198.923077</td>\n      <td>13</td>\n      <td>16</td>\n      <td>198.923</td>\n      <td>104</td>\n      <td>160.0</td>\n      <td>116.0</td>\n      <td>3</td>\n      <td>0.187500</td>\n      <td>107.0</td>\n    </tr>\n    <tr>\n      <th>181</th>\n      <td>コトダマ</td>\n      <td>745</td>\n      <td>12</td>\n      <td>False</td>\n      <td>False</td>\n      <td>[コトダマ, シゴフミ オリジナルサウンドトラック, La Vita Romantica, ...</td>\n      <td>コトダマ</td>\n      <td>2008-01-23</td>\n      <td>r2008</td>\n      <td>[S-1, ST, CA]</td>\n      <td>...</td>\n      <td>62.083333</td>\n      <td>1</td>\n      <td>12</td>\n      <td>67</td>\n      <td>32</td>\n      <td>9.0</td>\n      <td>14.0</td>\n      <td>11</td>\n      <td>0.916667</td>\n      <td>2.0</td>\n    </tr>\n    <tr>\n      <th>195</th>\n      <td>鬼帝の剣</td>\n      <td>648</td>\n      <td>11</td>\n      <td>False</td>\n      <td>False</td>\n      <td>[鬼帝の剣, 桂冠詩人 SINGLE COLLECTION PLUS, 鉄のラインバレル オ...</td>\n      <td>鬼帝の剣</td>\n      <td>2008-11-19</td>\n      <td>r2009</td>\n      <td>[S-1, ST, CA]</td>\n      <td>...</td>\n      <td>58.909091</td>\n      <td>2</td>\n      <td>11</td>\n      <td>64.3</td>\n      <td>23</td>\n      <td>7.0</td>\n      <td>8.0</td>\n      <td>9</td>\n      <td>0.818182</td>\n      <td>8.0</td>\n    </tr>\n    <tr>\n      <th>198</th>\n      <td>裸々イヴ新世紀</td>\n      <td>1020</td>\n      <td>11</td>\n      <td>False</td>\n      <td>False</td>\n      <td>[裸々イヴ新世紀, 宇宙をかける少女 オリジナルサウンドトラック, COMPILATION ...</td>\n      <td>裸々イヴ新世紀</td>\n      <td>2009-01-21</td>\n      <td>r2009</td>\n      <td>[S-1, OT, ST, CA]</td>\n      <td>...</td>\n      <td>92.727273</td>\n      <td>4</td>\n      <td>11</td>\n      <td>101.1</td>\n      <td>29</td>\n      <td>24.0</td>\n      <td>12.0</td>\n      <td>7</td>\n      <td>0.636364</td>\n      <td>25.0</td>\n    </tr>\n    <tr>\n      <th>202</th>\n      <td>戦慄の子供たち</td>\n      <td>953</td>\n      <td>10</td>\n      <td>False</td>\n      <td>False</td>\n      <td>[戦慄の子供たち, Phantom ～Requiem for the Phantom～ O....</td>\n      <td>戦慄の子供たち</td>\n      <td>2009-08-19</td>\n      <td>r2010</td>\n      <td>[S-1, ST, CA]</td>\n      <td>...</td>\n      <td>95.300000</td>\n      <td>4</td>\n      <td>10</td>\n      <td>103.111</td>\n      <td>55</td>\n      <td>28.0</td>\n      <td>42.0</td>\n      <td>6</td>\n      <td>0.600000</td>\n      <td>29.0</td>\n    </tr>\n    <tr>\n      <th>215</th>\n      <td>堕天國宣戦</td>\n      <td>661</td>\n      <td>10</td>\n      <td>False</td>\n      <td>False</td>\n      <td>[堕天國宣戦, 戦う司書 The Book of Bantorra O.S.T., QUEE...</td>\n      <td>堕天國宣戦</td>\n      <td>2009-10-21</td>\n      <td>r2010</td>\n      <td>[S-1, ST, CA]</td>\n      <td>...</td>\n      <td>66.100000</td>\n      <td>2</td>\n      <td>10</td>\n      <td>72.6667</td>\n      <td>14</td>\n      <td>11.0</td>\n      <td>4.0</td>\n      <td>8</td>\n      <td>0.800000</td>\n      <td>9.0</td>\n    </tr>\n    <tr>\n      <th>224</th>\n      <td>亂世エロイカ</td>\n      <td>698</td>\n      <td>9</td>\n      <td>False</td>\n      <td>False</td>\n      <td>[亂世エロイカ, QUEENDOM, 快恠奇奇 ALI PROJECT Ventennale...</td>\n      <td>亂世エロイカ</td>\n      <td>2010-07-14</td>\n      <td>r2011</td>\n      <td>[S-1, CA]</td>\n      <td>...</td>\n      <td>77.555556</td>\n      <td>3</td>\n      <td>9</td>\n      <td>86.125</td>\n      <td>40</td>\n      <td>15.0</td>\n      <td>22.0</td>\n      <td>6</td>\n      <td>0.666667</td>\n      <td>19.0</td>\n    </tr>\n    <tr>\n      <th>310</th>\n      <td>波羅蜜蓮華</td>\n      <td>568</td>\n      <td>5</td>\n      <td>False</td>\n      <td>False</td>\n      <td>[波羅蜜蓮華, 落第騎士の英雄譚 O.S.T.]</td>\n      <td>波羅蜜蓮華</td>\n      <td>2015-10-21</td>\n      <td>r2015</td>\n      <td>[S-1, ST]</td>\n      <td>...</td>\n      <td>113.600000</td>\n      <td>2</td>\n      <td>5</td>\n      <td>139</td>\n      <td>70</td>\n      <td>67.0</td>\n      <td>72.0</td>\n      <td>3</td>\n      <td>0.600000</td>\n      <td>29.0</td>\n    </tr>\n  </tbody>\n</table>\n<p>13 rows × 37 columns</p>\n</div>"
     },
     "metadata": {},
     "execution_count": 244
    }
   ],
   "source": [
    "TARGET[TARGET.kind.apply(lambda k: 'S-1' in k)]"
   ]
  },
  {
   "cell_type": "markdown",
   "metadata": {},
   "source": [
    "## 去年投票した曲"
   ]
  },
  {
   "cell_type": "code",
   "execution_count": 245,
   "metadata": {},
   "outputs": [
    {
     "output_type": "execute_result",
     "data": {
      "text/plain": "                    title  summation  appearance   inst  hall_of_fame  \\\nno                                                                      \n1                桜の花は狂い咲き       1579          13  False         False   \n209  Animals on the Earth       1145          10  False         False   \n234                四神獣飼殺し       1110           9  False         False   \n299                陸と海と空と        375           5  False         False   \n309          緋ノ糸輪廻ノGEMINI        523           5  False         False   \n\n                                              works  \\\nno                                                    \n1    [SOME GIRLS -REBEL STREEL IV, CLASSICS, 月光嗜好症]   \n209                                        [Poison]   \n234                                        [汎新日本主義]   \n299                   [快楽のススメ, 愛と誠 ～YAMATO＆LOVE×××]   \n309                                        [快楽のススメ]   \n\n                           debut       date initial          kind  ...  \\\nno                                                                 ...   \n1    SOME GIRLS -REBEL STREEL IV 1997-04-25   r2005  [SA, OA, OT]  ...   \n209                       Poison 2009-08-26   r2010          [OA]  ...   \n234                       汎新日本主義 2010-09-26   r2011          [OA]  ...   \n299                       快楽のススメ 2015-09-09   r2015      [OA, CA]  ...   \n309                       快楽のススメ 2015-09-09   r2015          [OA]  ...   \n\n        average  over100  count_all  average_exclude_debut  \\\nno                                                           \n1    121.461538        9         16                121.462   \n209  114.500000        5         10                123.333   \n234  123.333333        5          9                135.375   \n299   75.000000        2          5                  89.25   \n309  104.600000        2          5                  122.5   \n\n     highest_exclude_debut  rank_average_exclude_debut  \\\nno                                                       \n1                       68                        46.0   \n209                     45                        49.0   \n234                     71                        63.0   \n299                     56                        17.0   \n309                     80                        47.0   \n\n     rank_highest_exclude_debut  under100  under100_rate  rank_under100_rate  \nno                                                                            \n1                          64.0         7       0.437500                53.0  \n209                        27.0         5       0.500000                39.0  \n234                        74.0         4       0.444444                50.0  \n299                        43.0         3       0.600000                29.0  \n309                        85.0         3       0.600000                29.0  \n\n[5 rows x 37 columns]",
      "text/html": "<div>\n<style scoped>\n    .dataframe tbody tr th:only-of-type {\n        vertical-align: middle;\n    }\n\n    .dataframe tbody tr th {\n        vertical-align: top;\n    }\n\n    .dataframe thead th {\n        text-align: right;\n    }\n</style>\n<table border=\"1\" class=\"dataframe\">\n  <thead>\n    <tr style=\"text-align: right;\">\n      <th></th>\n      <th>title</th>\n      <th>summation</th>\n      <th>appearance</th>\n      <th>inst</th>\n      <th>hall_of_fame</th>\n      <th>works</th>\n      <th>debut</th>\n      <th>date</th>\n      <th>initial</th>\n      <th>kind</th>\n      <th>...</th>\n      <th>average</th>\n      <th>over100</th>\n      <th>count_all</th>\n      <th>average_exclude_debut</th>\n      <th>highest_exclude_debut</th>\n      <th>rank_average_exclude_debut</th>\n      <th>rank_highest_exclude_debut</th>\n      <th>under100</th>\n      <th>under100_rate</th>\n      <th>rank_under100_rate</th>\n    </tr>\n    <tr>\n      <th>no</th>\n      <th></th>\n      <th></th>\n      <th></th>\n      <th></th>\n      <th></th>\n      <th></th>\n      <th></th>\n      <th></th>\n      <th></th>\n      <th></th>\n      <th></th>\n      <th></th>\n      <th></th>\n      <th></th>\n      <th></th>\n      <th></th>\n      <th></th>\n      <th></th>\n      <th></th>\n      <th></th>\n      <th></th>\n    </tr>\n  </thead>\n  <tbody>\n    <tr>\n      <th>1</th>\n      <td>桜の花は狂い咲き</td>\n      <td>1579</td>\n      <td>13</td>\n      <td>False</td>\n      <td>False</td>\n      <td>[SOME GIRLS -REBEL STREEL IV, CLASSICS, 月光嗜好症]</td>\n      <td>SOME GIRLS -REBEL STREEL IV</td>\n      <td>1997-04-25</td>\n      <td>r2005</td>\n      <td>[SA, OA, OT]</td>\n      <td>...</td>\n      <td>121.461538</td>\n      <td>9</td>\n      <td>16</td>\n      <td>121.462</td>\n      <td>68</td>\n      <td>46.0</td>\n      <td>64.0</td>\n      <td>7</td>\n      <td>0.437500</td>\n      <td>53.0</td>\n    </tr>\n    <tr>\n      <th>209</th>\n      <td>Animals on the Earth</td>\n      <td>1145</td>\n      <td>10</td>\n      <td>False</td>\n      <td>False</td>\n      <td>[Poison]</td>\n      <td>Poison</td>\n      <td>2009-08-26</td>\n      <td>r2010</td>\n      <td>[OA]</td>\n      <td>...</td>\n      <td>114.500000</td>\n      <td>5</td>\n      <td>10</td>\n      <td>123.333</td>\n      <td>45</td>\n      <td>49.0</td>\n      <td>27.0</td>\n      <td>5</td>\n      <td>0.500000</td>\n      <td>39.0</td>\n    </tr>\n    <tr>\n      <th>234</th>\n      <td>四神獣飼殺し</td>\n      <td>1110</td>\n      <td>9</td>\n      <td>False</td>\n      <td>False</td>\n      <td>[汎新日本主義]</td>\n      <td>汎新日本主義</td>\n      <td>2010-09-26</td>\n      <td>r2011</td>\n      <td>[OA]</td>\n      <td>...</td>\n      <td>123.333333</td>\n      <td>5</td>\n      <td>9</td>\n      <td>135.375</td>\n      <td>71</td>\n      <td>63.0</td>\n      <td>74.0</td>\n      <td>4</td>\n      <td>0.444444</td>\n      <td>50.0</td>\n    </tr>\n    <tr>\n      <th>299</th>\n      <td>陸と海と空と</td>\n      <td>375</td>\n      <td>5</td>\n      <td>False</td>\n      <td>False</td>\n      <td>[快楽のススメ, 愛と誠 ～YAMATO＆LOVE×××]</td>\n      <td>快楽のススメ</td>\n      <td>2015-09-09</td>\n      <td>r2015</td>\n      <td>[OA, CA]</td>\n      <td>...</td>\n      <td>75.000000</td>\n      <td>2</td>\n      <td>5</td>\n      <td>89.25</td>\n      <td>56</td>\n      <td>17.0</td>\n      <td>43.0</td>\n      <td>3</td>\n      <td>0.600000</td>\n      <td>29.0</td>\n    </tr>\n    <tr>\n      <th>309</th>\n      <td>緋ノ糸輪廻ノGEMINI</td>\n      <td>523</td>\n      <td>5</td>\n      <td>False</td>\n      <td>False</td>\n      <td>[快楽のススメ]</td>\n      <td>快楽のススメ</td>\n      <td>2015-09-09</td>\n      <td>r2015</td>\n      <td>[OA]</td>\n      <td>...</td>\n      <td>104.600000</td>\n      <td>2</td>\n      <td>5</td>\n      <td>122.5</td>\n      <td>80</td>\n      <td>47.0</td>\n      <td>85.0</td>\n      <td>3</td>\n      <td>0.600000</td>\n      <td>29.0</td>\n    </tr>\n  </tbody>\n</table>\n<p>5 rows × 37 columns</p>\n</div>"
     },
     "metadata": {},
     "execution_count": 245
    }
   ],
   "source": [
    "my_before = ['桜の花は狂い咲き', '乙女の祈り', 'Rose Moon', '少女貴族', '熱帯性植物園', '遊月恋歌', '少女殉血', 'Animals on the Earth', '四神獣飼殺し', 'ALICE同罪イノセント', '陸と海と空と', '緋ノ糸輪廻ノGEMINI']\n",
    "TARGET.query('title in @my_before')"
   ]
  },
  {
   "cell_type": "markdown",
   "metadata": {},
   "source": [
    "## 今年投票した曲"
   ]
  },
  {
   "cell_type": "code",
   "execution_count": 247,
   "metadata": {},
   "outputs": [
    {
     "output_type": "execute_result",
     "data": {
      "text/plain": "                           title  summation  appearance   inst  hall_of_fame  \\\nno                                                                             \n1                       桜の花は狂い咲き       1579          13  False         False   \n37   Nous Deux C'est Pour La Vie       1595          13  False         False   \n49                      月夜のピエレット       1811          13  False         False   \n185                           神風        407          11  False         False   \n209         Animals on the Earth       1145          10  False         False   \n228                    絶國TEMPEST       1447           9  False         False   \n234                       四神獣飼殺し       1110           9  False         False   \n258                    La vérité        736           8  False         False   \n261                      真夏の憂愁夫人        353           8  False         False   \n268                       令嬢薔薇図鑑        361           7  False         False   \n299                       陸と海と空と        375           5  False         False   \n309                 緋ノ糸輪廻ノGEMINI        523           5  False         False   \n\n                                                 works  \\\nno                                                       \n1       [SOME GIRLS -REBEL STREEL IV, CLASSICS, 月光嗜好症]   \n37   [雨のソナタ ～La Pluie～, jamais vu, Déjà Vu ～THE ORI...   \n49   [ピアニィ・ピンク, CLAMP学園探偵団 O.S.T 1, CLAMP学園探偵団 Voca...   \n185                          [禁書, 愛と誠 ～YAMATO＆LOVE×××]   \n209                                           [Poison]   \n228                      [汎新日本主義, 愛と誠 ～YAMATO＆LOVE×××]   \n234                                           [汎新日本主義]   \n258                                              [贋作師]   \n261                         [贋作師, 愛と誠 ～YAMATO＆LOVE×××]   \n268   [令嬢薔薇図鑑, 血と蜜 ～Anthology of Gothic Lolita＆Horror]   \n299                      [快楽のススメ, 愛と誠 ～YAMATO＆LOVE×××]   \n309                                           [快楽のススメ]   \n\n                           debut       date initial                   kind  \\\nno                                                                           \n1    SOME GIRLS -REBEL STREEL IV 1997-04-25   r2005           [SA, OA, OT]   \n37              雨のソナタ ～La Pluie～ 1995-10-18   r2005              [S-2, CA]   \n49                      ピアニィ・ピンク 1997-05-21   r2005  [OA, OT, S-2, ST, CA]   \n185                           禁書 2008-08-27   r2009               [OA, CA]   \n209                       Poison 2009-08-26   r2010                   [OA]   \n228                       汎新日本主義 2010-09-26   r2011               [OA, CA]   \n234                       汎新日本主義 2010-09-26   r2011                   [OA]   \n258                          贋作師 2012-07-18   r2012                   [OA]   \n261                          贋作師 2012-07-18   r2012               [OA, CA]   \n268                       令嬢薔薇図鑑 2013-09-11   r2013               [OA, CA]   \n299                       快楽のススメ 2015-09-09   r2015               [OA, CA]   \n309                       快楽のススメ 2015-09-09   r2015                   [OA]   \n\n     ...     average  over100  count_all  average_exclude_debut  \\\nno   ...                                                          \n1    ...  121.461538        9         16                121.462   \n37   ...  122.692308        9         16                122.692   \n49   ...  139.307692       10         16                139.308   \n185  ...   37.000000        1         11                   39.4   \n209  ...  114.500000        5         10                123.333   \n228  ...  160.777778        6          9                 174.25   \n234  ...  123.333333        5          9                135.375   \n258  ...   92.000000        3          8                    103   \n261  ...   44.125000        1          8                44.8571   \n268  ...   51.571429        1          7                59.1667   \n299  ...   75.000000        2          5                  89.25   \n309  ...  104.600000        2          5                  122.5   \n\n     highest_exclude_debut  rank_average_exclude_debut  \\\nno                                                       \n1                       68                        46.0   \n37                      44                        48.0   \n49                      68                        68.0   \n185                     14                         1.0   \n209                     45                        49.0   \n228                     69                       123.0   \n234                     71                        63.0   \n258                     60                        27.0   \n261                      9                         2.0   \n268                     25                         4.0   \n299                     56                        17.0   \n309                     80                        47.0   \n\n     rank_highest_exclude_debut  under100  under100_rate  rank_under100_rate  \nno                                                                            \n1                          64.0         7       0.437500                53.0  \n37                         26.0         7       0.437500                53.0  \n49                         64.0         6       0.375000                67.0  \n185                         4.0        10       0.909091                 3.0  \n209                        27.0         5       0.500000                39.0  \n228                        70.0         3       0.333333                75.0  \n234                        74.0         4       0.444444                50.0  \n258                        48.0         5       0.625000                27.0  \n261                         1.0         7       0.875000                 4.0  \n268                         9.0         6       0.857143                 5.0  \n299                        43.0         3       0.600000                29.0  \n309                        85.0         3       0.600000                29.0  \n\n[12 rows x 37 columns]",
      "text/html": "<div>\n<style scoped>\n    .dataframe tbody tr th:only-of-type {\n        vertical-align: middle;\n    }\n\n    .dataframe tbody tr th {\n        vertical-align: top;\n    }\n\n    .dataframe thead th {\n        text-align: right;\n    }\n</style>\n<table border=\"1\" class=\"dataframe\">\n  <thead>\n    <tr style=\"text-align: right;\">\n      <th></th>\n      <th>title</th>\n      <th>summation</th>\n      <th>appearance</th>\n      <th>inst</th>\n      <th>hall_of_fame</th>\n      <th>works</th>\n      <th>debut</th>\n      <th>date</th>\n      <th>initial</th>\n      <th>kind</th>\n      <th>...</th>\n      <th>average</th>\n      <th>over100</th>\n      <th>count_all</th>\n      <th>average_exclude_debut</th>\n      <th>highest_exclude_debut</th>\n      <th>rank_average_exclude_debut</th>\n      <th>rank_highest_exclude_debut</th>\n      <th>under100</th>\n      <th>under100_rate</th>\n      <th>rank_under100_rate</th>\n    </tr>\n    <tr>\n      <th>no</th>\n      <th></th>\n      <th></th>\n      <th></th>\n      <th></th>\n      <th></th>\n      <th></th>\n      <th></th>\n      <th></th>\n      <th></th>\n      <th></th>\n      <th></th>\n      <th></th>\n      <th></th>\n      <th></th>\n      <th></th>\n      <th></th>\n      <th></th>\n      <th></th>\n      <th></th>\n      <th></th>\n      <th></th>\n    </tr>\n  </thead>\n  <tbody>\n    <tr>\n      <th>1</th>\n      <td>桜の花は狂い咲き</td>\n      <td>1579</td>\n      <td>13</td>\n      <td>False</td>\n      <td>False</td>\n      <td>[SOME GIRLS -REBEL STREEL IV, CLASSICS, 月光嗜好症]</td>\n      <td>SOME GIRLS -REBEL STREEL IV</td>\n      <td>1997-04-25</td>\n      <td>r2005</td>\n      <td>[SA, OA, OT]</td>\n      <td>...</td>\n      <td>121.461538</td>\n      <td>9</td>\n      <td>16</td>\n      <td>121.462</td>\n      <td>68</td>\n      <td>46.0</td>\n      <td>64.0</td>\n      <td>7</td>\n      <td>0.437500</td>\n      <td>53.0</td>\n    </tr>\n    <tr>\n      <th>37</th>\n      <td>Nous Deux C'est Pour La Vie</td>\n      <td>1595</td>\n      <td>13</td>\n      <td>False</td>\n      <td>False</td>\n      <td>[雨のソナタ ～La Pluie～, jamais vu, Déjà Vu ～THE ORI...</td>\n      <td>雨のソナタ ～La Pluie～</td>\n      <td>1995-10-18</td>\n      <td>r2005</td>\n      <td>[S-2, CA]</td>\n      <td>...</td>\n      <td>122.692308</td>\n      <td>9</td>\n      <td>16</td>\n      <td>122.692</td>\n      <td>44</td>\n      <td>48.0</td>\n      <td>26.0</td>\n      <td>7</td>\n      <td>0.437500</td>\n      <td>53.0</td>\n    </tr>\n    <tr>\n      <th>49</th>\n      <td>月夜のピエレット</td>\n      <td>1811</td>\n      <td>13</td>\n      <td>False</td>\n      <td>False</td>\n      <td>[ピアニィ・ピンク, CLAMP学園探偵団 O.S.T 1, CLAMP学園探偵団 Voca...</td>\n      <td>ピアニィ・ピンク</td>\n      <td>1997-05-21</td>\n      <td>r2005</td>\n      <td>[OA, OT, S-2, ST, CA]</td>\n      <td>...</td>\n      <td>139.307692</td>\n      <td>10</td>\n      <td>16</td>\n      <td>139.308</td>\n      <td>68</td>\n      <td>68.0</td>\n      <td>64.0</td>\n      <td>6</td>\n      <td>0.375000</td>\n      <td>67.0</td>\n    </tr>\n    <tr>\n      <th>185</th>\n      <td>神風</td>\n      <td>407</td>\n      <td>11</td>\n      <td>False</td>\n      <td>False</td>\n      <td>[禁書, 愛と誠 ～YAMATO＆LOVE×××]</td>\n      <td>禁書</td>\n      <td>2008-08-27</td>\n      <td>r2009</td>\n      <td>[OA, CA]</td>\n      <td>...</td>\n      <td>37.000000</td>\n      <td>1</td>\n      <td>11</td>\n      <td>39.4</td>\n      <td>14</td>\n      <td>1.0</td>\n      <td>4.0</td>\n      <td>10</td>\n      <td>0.909091</td>\n      <td>3.0</td>\n    </tr>\n    <tr>\n      <th>209</th>\n      <td>Animals on the Earth</td>\n      <td>1145</td>\n      <td>10</td>\n      <td>False</td>\n      <td>False</td>\n      <td>[Poison]</td>\n      <td>Poison</td>\n      <td>2009-08-26</td>\n      <td>r2010</td>\n      <td>[OA]</td>\n      <td>...</td>\n      <td>114.500000</td>\n      <td>5</td>\n      <td>10</td>\n      <td>123.333</td>\n      <td>45</td>\n      <td>49.0</td>\n      <td>27.0</td>\n      <td>5</td>\n      <td>0.500000</td>\n      <td>39.0</td>\n    </tr>\n    <tr>\n      <th>228</th>\n      <td>絶國TEMPEST</td>\n      <td>1447</td>\n      <td>9</td>\n      <td>False</td>\n      <td>False</td>\n      <td>[汎新日本主義, 愛と誠 ～YAMATO＆LOVE×××]</td>\n      <td>汎新日本主義</td>\n      <td>2010-09-26</td>\n      <td>r2011</td>\n      <td>[OA, CA]</td>\n      <td>...</td>\n      <td>160.777778</td>\n      <td>6</td>\n      <td>9</td>\n      <td>174.25</td>\n      <td>69</td>\n      <td>123.0</td>\n      <td>70.0</td>\n      <td>3</td>\n      <td>0.333333</td>\n      <td>75.0</td>\n    </tr>\n    <tr>\n      <th>234</th>\n      <td>四神獣飼殺し</td>\n      <td>1110</td>\n      <td>9</td>\n      <td>False</td>\n      <td>False</td>\n      <td>[汎新日本主義]</td>\n      <td>汎新日本主義</td>\n      <td>2010-09-26</td>\n      <td>r2011</td>\n      <td>[OA]</td>\n      <td>...</td>\n      <td>123.333333</td>\n      <td>5</td>\n      <td>9</td>\n      <td>135.375</td>\n      <td>71</td>\n      <td>63.0</td>\n      <td>74.0</td>\n      <td>4</td>\n      <td>0.444444</td>\n      <td>50.0</td>\n    </tr>\n    <tr>\n      <th>258</th>\n      <td>La vérité</td>\n      <td>736</td>\n      <td>8</td>\n      <td>False</td>\n      <td>False</td>\n      <td>[贋作師]</td>\n      <td>贋作師</td>\n      <td>2012-07-18</td>\n      <td>r2012</td>\n      <td>[OA]</td>\n      <td>...</td>\n      <td>92.000000</td>\n      <td>3</td>\n      <td>8</td>\n      <td>103</td>\n      <td>60</td>\n      <td>27.0</td>\n      <td>48.0</td>\n      <td>5</td>\n      <td>0.625000</td>\n      <td>27.0</td>\n    </tr>\n    <tr>\n      <th>261</th>\n      <td>真夏の憂愁夫人</td>\n      <td>353</td>\n      <td>8</td>\n      <td>False</td>\n      <td>False</td>\n      <td>[贋作師, 愛と誠 ～YAMATO＆LOVE×××]</td>\n      <td>贋作師</td>\n      <td>2012-07-18</td>\n      <td>r2012</td>\n      <td>[OA, CA]</td>\n      <td>...</td>\n      <td>44.125000</td>\n      <td>1</td>\n      <td>8</td>\n      <td>44.8571</td>\n      <td>9</td>\n      <td>2.0</td>\n      <td>1.0</td>\n      <td>7</td>\n      <td>0.875000</td>\n      <td>4.0</td>\n    </tr>\n    <tr>\n      <th>268</th>\n      <td>令嬢薔薇図鑑</td>\n      <td>361</td>\n      <td>7</td>\n      <td>False</td>\n      <td>False</td>\n      <td>[令嬢薔薇図鑑, 血と蜜 ～Anthology of Gothic Lolita＆Horror]</td>\n      <td>令嬢薔薇図鑑</td>\n      <td>2013-09-11</td>\n      <td>r2013</td>\n      <td>[OA, CA]</td>\n      <td>...</td>\n      <td>51.571429</td>\n      <td>1</td>\n      <td>7</td>\n      <td>59.1667</td>\n      <td>25</td>\n      <td>4.0</td>\n      <td>9.0</td>\n      <td>6</td>\n      <td>0.857143</td>\n      <td>5.0</td>\n    </tr>\n    <tr>\n      <th>299</th>\n      <td>陸と海と空と</td>\n      <td>375</td>\n      <td>5</td>\n      <td>False</td>\n      <td>False</td>\n      <td>[快楽のススメ, 愛と誠 ～YAMATO＆LOVE×××]</td>\n      <td>快楽のススメ</td>\n      <td>2015-09-09</td>\n      <td>r2015</td>\n      <td>[OA, CA]</td>\n      <td>...</td>\n      <td>75.000000</td>\n      <td>2</td>\n      <td>5</td>\n      <td>89.25</td>\n      <td>56</td>\n      <td>17.0</td>\n      <td>43.0</td>\n      <td>3</td>\n      <td>0.600000</td>\n      <td>29.0</td>\n    </tr>\n    <tr>\n      <th>309</th>\n      <td>緋ノ糸輪廻ノGEMINI</td>\n      <td>523</td>\n      <td>5</td>\n      <td>False</td>\n      <td>False</td>\n      <td>[快楽のススメ]</td>\n      <td>快楽のススメ</td>\n      <td>2015-09-09</td>\n      <td>r2015</td>\n      <td>[OA]</td>\n      <td>...</td>\n      <td>104.600000</td>\n      <td>2</td>\n      <td>5</td>\n      <td>122.5</td>\n      <td>80</td>\n      <td>47.0</td>\n      <td>85.0</td>\n      <td>3</td>\n      <td>0.600000</td>\n      <td>29.0</td>\n    </tr>\n  </tbody>\n</table>\n<p>12 rows × 37 columns</p>\n</div>"
     },
     "metadata": {},
     "execution_count": 247
    }
   ],
   "source": [
    "my = ['桜の花は狂い咲き', \"Nous Deux C'est Pour La Vie\", '月夜のピエレット', '神風', 'Animals on the Earth', '絶國TEMPEST', '四神獣飼殺し', 'La vérité', '真夏の憂愁夫人', '令嬢薔薇図鑑', '陸と海と空と', '緋ノ糸輪廻ノGEMINI']\n",
    "TARGET.query('title in @my')"
   ]
  },
  {
   "cell_type": "code",
   "execution_count": null,
   "metadata": {},
   "outputs": [],
   "source": []
  },
  {
   "cell_type": "code",
   "execution_count": null,
   "metadata": {},
   "outputs": [],
   "source": []
  }
 ],
 "metadata": {
  "language_info": {
   "codemirror_mode": {
    "name": "ipython",
    "version": 3
   },
   "file_extension": ".py",
   "mimetype": "text/x-python",
   "name": "python",
   "nbconvert_exporter": "python",
   "pygments_lexer": "ipython3",
   "version": "3.7.7-final"
  },
  "orig_nbformat": 2,
  "kernelspec": {
   "name": "python3",
   "display_name": "Python 3"
  }
 },
 "nbformat": 4,
 "nbformat_minor": 2
}