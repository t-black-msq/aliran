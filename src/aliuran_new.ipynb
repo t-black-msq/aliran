{
 "cells": [
  {
   "cell_type": "code",
   "execution_count": 1,
   "metadata": {},
   "outputs": [],
   "source": [
    "import json\n",
    "import pandas"
   ]
  },
  {
   "cell_type": "code",
   "execution_count": 36,
   "metadata": {},
   "outputs": [],
   "source": [
    "FILENAME = '../json/info.json'\n",
    "\n",
    "with open(FILENAME, encoding='utf8') as info:\n",
    "    INFO = json.load(info)"
   ]
  },
  {
   "cell_type": "code",
   "execution_count": 40,
   "metadata": {},
   "outputs": [],
   "source": [
    "RANK1 = ['r2005', 'r2006#1', 'r2006#2']\n",
    "RANK2 = ['r2007', 'r2008', 'r2009', 'r2010', 'r2011', 'r2012', 'r2013', 'r2014', 'r2015', 'r2016', 'r2017', 'r2018', 'r2019']\n",
    "RANK = RANK1 + RANK2\n",
    "URA = ['r2019u']"
   ]
  },
  {
   "cell_type": "code",
   "execution_count": 59,
   "metadata": {},
   "outputs": [],
   "source": [
    "# DataFrame 作成用のサマリJSONを作り直す\n",
    "\n",
    "# keys = [\n",
    "#     'no', # index\n",
    "#     'title', # 曲名\n",
    "#     'summation', # オモテ合計順位\n",
    "#     'appearance', # オモテ圏内登場回数\n",
    "#     'inst', # インスト\n",
    "#     'hall_of_fame', # 殿堂入り\n",
    "#     'works', # 収録作品\n",
    "#     'debut', # 初出作品\n",
    "#     'date', # 発売日\n",
    "#     'initial', # 初登場ランキング\n",
    "#     'kind', # 収録作品種別\n",
    "#     'r2005', 'r2006#1', 'r2006#2',\n",
    "#     'r2007', 'r2008', 'r2009', 'r2010', 'r2011', 'r2012', 'r2013', 'r2014', 'r2015', 'r2016', 'r2017', 'r2018', 'r2019',\n",
    "#     'r2019u'\n",
    "# ]\n",
    "\n",
    "# SONGS = INFO['songs']\n",
    "# WORKS = INFO['works']\n",
    "# MAX = INFO['max']\n",
    "# LENGTH = len(SONGS)\n",
    "\n",
    "# SUMMARY = {key: [None] * LENGTH for key in keys}\n",
    "\n",
    "# for i in range(LENGTH):\n",
    "#     SONG = SONGS[f'{i + 1:03d}']\n",
    "#     SUMMARY['no'][i] = i + 1\n",
    "#     SUMMARY['title'][i] = SONG['title']\n",
    "#     SUMMARY['summation'][i] = 0\n",
    "#     SUMMARY['appearance'][i] = 0\n",
    "#     SUMMARY['inst'][i] = SONG['inst']\n",
    "#     SUMMARY['hall_of_fame'][i] = SONG['hall_of_fame']\n",
    "#     SUMMARY['works'][i] = [WORKS[work[:3]]['title'] for work in SONG['works']]\n",
    "#     SUMMARY['debut'][i] = WORKS[SONG['debut']]['title']\n",
    "#     SUMMARY['date'][i] = WORKS[SONG['debut']]['release']\n",
    "#     SUMMARY['initial'][i] = SONG['initial']\n",
    "#     SUMMARY['kind'][i] = SONG['kind']\n",
    "\n",
    "#     for r in RANK:\n",
    "#         if r in SONG:\n",
    "#             SUMMARY[r][i] = SONG[r]\n",
    "#             if r in RANK2:\n",
    "#                 SUMMARY['summation'][i] += SONG[r] if SONG[r] is not None else MAX[r]\n",
    "#                 SUMMARY['appearance'][i] += 1\n",
    "#         else:\n",
    "#             SUMMARY[r][i] = MAX[r]\n",
    "\n",
    "#     for r in URA:\n",
    "#         if r in SONG:\n",
    "#             SUMMARY[r][i] = int(SONG[r])\n",
    "\n",
    "# del SONGS, WORKS, MAX, LENGTH\n",
    "\n",
    "# with open('../data/summary.json', 'w', encoding='utf8') as summary:\n",
    "#     json.dump(SUMMARY, summary, ensure_ascii=False)"
   ]
  },
  {
   "cell_type": "code",
   "execution_count": null,
   "metadata": {},
   "outputs": [],
   "source": []
  }
 ],
 "metadata": {
  "language_info": {
   "codemirror_mode": {
    "name": "ipython",
    "version": 3
   },
   "file_extension": ".py",
   "mimetype": "text/x-python",
   "name": "python",
   "nbconvert_exporter": "python",
   "pygments_lexer": "ipython3",
   "version": "3.7.7-final"
  },
  "orig_nbformat": 2,
  "kernelspec": {
   "name": "python3",
   "display_name": "Python 3"
  }
 },
 "nbformat": 4,
 "nbformat_minor": 2
}